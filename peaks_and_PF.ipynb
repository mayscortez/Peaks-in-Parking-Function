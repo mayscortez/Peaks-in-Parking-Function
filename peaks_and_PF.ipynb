{
 "cells": [
  {
   "cell_type": "markdown",
   "metadata": {
    "collapsed": false
   },
   "source": [
    "# Parking Functions and Peaks\n",
    "\n",
    "### List of functions defined in this notebook\n",
    "\n",
    "- `countPeaks(PF)`\n",
    "    - returns total number of peaks in a given parking function\n",
    "- `noPeaks(n)`\n",
    "    - returns total number of parking functions of length $n$ with no peaks\n",
    "- `withRepeats(n)`\n",
    "    - returns list of parking functions of length $n$ that are not permutations\n",
    "- `noPeaksR(n)`\n",
    "    - returns number of parking functions (length $n$, no permutations) with no peaks\n",
    "- `kPeaks(k,n)`\n",
    "    - returns list of all parking functions (length $n$, no permutations) with exactly $k$ peaks\n",
    "- `allPeaks(n)`\n",
    "    - returns number of parking functions of length $n$ with any peaks\n",
    "- `allPeaks(n)`\n",
    "    - returns number of parking function (length $n$, no permutaions) with any peaks\n",
    "- `exactPeaks(i,n)`\n",
    "    - returns the number of parking functions (length $n$, no permutations) with one peak exactly at index $i$\n",
    "- `jointPeaks(I,PF)`\n",
    "    - returns true if the given parking function has peaks at exactly the indices in the list $I$\n",
    "- `kExactPeaks(I,n)`\n",
    "    - returns number of parking functions (length $n$, no permutations) with peaks at exactly the indices in the list"
   ]
  },
  {
   "cell_type": "markdown",
   "metadata": {
    "collapsed": false
   },
   "source": [
    "## Count the number of peaks in a given parking function\n",
    "\n",
    "First we define a function `countPeaks` which takes in a parking function and returns the number of peaks.\n",
    "- `counter=0` makes a counter that we continually add to and sets it to 0\n",
    "- Then we use a for loop over each indices starting at the second one to check if there is a peak there\n",
    "    - if there is a peak, add to counter\n",
    "    - otherwise don't do anything"
   ]
  },
  {
   "cell_type": "code",
   "execution_count": 3,
   "metadata": {
    "collapsed": false
   },
   "outputs": [
   ],
   "source": [
    "def countPeaks(PF):\n",
    "    n = len(PF)\n",
    "    counter = 0\n",
    "    for i in range(1,n-1):\n",
    "        if PF[i-1] < PF[i] and PF[i+1] < PF[i]:\n",
    "                counter+=1\n",
    "    return counter"
   ]
  },
  {
   "cell_type": "markdown",
   "metadata": {
    "collapsed": false
   },
   "source": [
    "## Counts the number of parking functions of length n with no peaks\n",
    "\n",
    "\n",
    "Then, we define a function `noPeaks` that takes in a natural number n and returns the number of parking functions of length n that have no peaks.\n",
    "- `count=0` creates a counter and sets it equal to 0; we will be incrementing this value later\n",
    "- We create a list `PFn` and fill it with all the parking functions of length n\n",
    "- Using a for loop, we iterate through PFn \n",
    "  - We call the function `countPeaks` on the current element. \n",
    "  - If there are no peaks, increment the counter by 1. \n",
    "- return count, which should be the number of parking functions of length n with no peaks"
   ]
  },
  {
   "cell_type": "code",
   "execution_count": 4,
   "metadata": {
    "collapsed": false
   },
   "outputs": [
   ],
   "source": [
    "def noPeaks(n):\n",
    "    count = 0\n",
    "    PFn = ParkingFunctions(n).list()\n",
    "    for x in PFn:\n",
    "        if countPeaks(x)==0:\n",
    "            count+=1\n",
    "    return count"
   ]
  },
  {
   "cell_type": "code",
   "execution_count": 0,
   "metadata": {
    "collapsed": false
   },
   "outputs": [
   ],
   "source": [
   ]
  },
  {
   "cell_type": "code",
   "execution_count": 7,
   "metadata": {
    "collapsed": false
   },
   "outputs": [
    {
     "data": {
      "text/plain": [
       "20823"
      ]
     },
     "execution_count": 7,
     "metadata": {
     },
     "output_type": "execute_result"
    }
   ],
   "source": [
    "noPeaks(7)"
   ]
  },
  {
   "cell_type": "code",
   "execution_count": 0,
   "metadata": {
    "collapsed": false
   },
   "outputs": [
   ],
   "source": [
   ]
  },
  {
   "cell_type": "code",
   "execution_count": 0,
   "metadata": {
    "collapsed": false
   },
   "outputs": [
   ],
   "source": [
   ]
  },
  {
   "cell_type": "code",
   "execution_count": 0,
   "metadata": {
    "collapsed": false
   },
   "outputs": [
   ],
   "source": [
   ]
  },
  {
   "cell_type": "markdown",
   "metadata": {
    "collapsed": false
   },
   "source": [
    "## How many parking functions of length $n$ that are NOT permutations"
   ]
  },
  {
   "cell_type": "markdown",
   "metadata": {
    "collapsed": false
   },
   "source": [
    "For this code, we want to get the parking functions without permutations. For every element in the list of parking functions, the code checks if that element is not in the permutations list. \n",
    "- PFr is a list of parking functions with exactly 1 peak and not including permutations \n",
    "- If x in PFr has a peak at index i then we add one to counter"
   ]
  },
  {
   "cell_type": "code",
   "execution_count": 29,
   "metadata": {
    "collapsed": false
   },
   "outputs": [
   ],
   "source": [
    "def withRepeats(n): \n",
    "    PF = ParkingFunctions(n)\n",
    "    P = Permutations(n)\n",
    "    PFr = Set(PF).difference(Set(P))\n",
    "    return list(PFr)"
   ]
  },
  {
   "cell_type": "markdown",
   "metadata": {
    "collapsed": false
   },
   "source": [
    "## No Peaks functions for PFr\n",
    "We define a function `noPeaksR` that takes in an input *n* for the length of the parking functions we want to consider and returns the number of parking functions (that are not permutations) with no peaks."
   ]
  },
  {
   "cell_type": "code",
   "execution_count": 30,
   "metadata": {
    "collapsed": false
   },
   "outputs": [
   ],
   "source": [
    "def noPeaksR(n):\n",
    "    count = 0\n",
    "    PFr = withRepeats(n)\n",
    "    for x in PFr:\n",
    "        if countPeaks(x)==0:\n",
    "            count+=1\n",
    "    return count"
   ]
  },
  {
   "cell_type": "code",
   "execution_count": 31,
   "metadata": {
    "collapsed": false
   },
   "outputs": [
   ],
   "source": [
    "#noPeaksR(6)"
   ]
  },
  {
   "cell_type": "code",
   "execution_count": 32,
   "metadata": {
    "collapsed": false
   },
   "outputs": [
    {
     "data": {
      "text/plain": [
       "1299847"
      ]
     },
     "execution_count": 32,
     "metadata": {
     },
     "output_type": "execute_result"
    }
   ],
   "source": [
    "146951+261950+314498+314498+261950"
   ]
  },
  {
   "cell_type": "code",
   "execution_count": 33,
   "metadata": {
    "collapsed": false
   },
   "outputs": [
    {
     "data": {
      "text/plain": [
       "1864114"
      ]
     },
     "execution_count": 33,
     "metadata": {
     },
     "output_type": "execute_result"
    }
   ],
   "source": [
    "171308+314907+258598+178341+223856+402197+314907"
   ]
  },
  {
   "cell_type": "code",
   "execution_count": 34,
   "metadata": {
    "collapsed": false
   },
   "outputs": [
    {
     "data": {
      "text/plain": [
       "4742649"
      ]
     },
     "execution_count": 34,
     "metadata": {
     },
     "output_type": "execute_result"
    }
   ],
   "source": [
    "(9)**(7) - factorial(8)"
   ]
  },
  {
   "cell_type": "code",
   "execution_count": 35,
   "metadata": {
    "collapsed": false
   },
   "outputs": [
    {
     "data": {
      "text/plain": [
       "1578688"
      ]
     },
     "execution_count": 35,
     "metadata": {
     },
     "output_type": "execute_result"
    }
   ],
   "source": [
    "4742649 - 1864114 - 1299847"
   ]
  },
  {
   "cell_type": "code",
   "execution_count": 36,
   "metadata": {
    "collapsed": false
   },
   "outputs": [
    {
     "data": {
      "text/plain": [
       "3163961"
      ]
     },
     "execution_count": 36,
     "metadata": {
     },
     "output_type": "execute_result"
    }
   ],
   "source": [
    "1299847+1864114"
   ]
  },
  {
   "cell_type": "code",
   "execution_count": 37,
   "metadata": {
    "collapsed": false
   },
   "outputs": [
    {
     "data": {
      "text/plain": [
       "1578688"
      ]
     },
     "execution_count": 37,
     "metadata": {
     },
     "output_type": "execute_result"
    }
   ],
   "source": [
    "4742649-3163961"
   ]
  },
  {
   "cell_type": "code",
   "execution_count": 0,
   "metadata": {
    "collapsed": false
   },
   "outputs": [
   ],
   "source": [
   ]
  },
  {
   "cell_type": "markdown",
   "metadata": {
    "collapsed": false
   },
   "source": [
    "## Counts the number of parking functions of length n with k peaks\n",
    "\n",
    "- `k` is the number of peaks we want our parking functions to have\n",
    "- `n` is the length of the parking functions we are considering"
   ]
  },
  {
   "cell_type": "code",
   "execution_count": 38,
   "metadata": {
    "collapsed": false
   },
   "outputs": [
   ],
   "source": [
    "def kPeaks(k, n):\n",
    "    count = []\n",
    "    PFn = withRepeats(n)\n",
    "    for x in PFn:\n",
    "        if countPeaks(x)==k:\n",
    "            count.append(x)\n",
    "    return count"
   ]
  },
  {
   "cell_type": "markdown",
   "metadata": {
    "collapsed": false
   },
   "source": [
    "Computations (Sanity Checking)"
   ]
  },
  {
   "cell_type": "code",
   "execution_count": 39,
   "metadata": {
    "collapsed": false
   },
   "outputs": [
    {
     "data": {
      "text/plain": [
       "12"
      ]
     },
     "execution_count": 39,
     "metadata": {
     },
     "output_type": "execute_result"
    }
   ],
   "source": [
    "noPeaks(3)"
   ]
  },
  {
   "cell_type": "code",
   "execution_count": 40,
   "metadata": {
    "collapsed": false
   },
   "outputs": [
    {
     "data": {
      "text/plain": [
       "59"
      ]
     },
     "execution_count": 40,
     "metadata": {
     },
     "output_type": "execute_result"
    }
   ],
   "source": [
    "noPeaks(4)"
   ]
  },
  {
   "cell_type": "code",
   "execution_count": 41,
   "metadata": {
    "collapsed": false
   },
   "outputs": [
    {
     "data": {
      "text/plain": [
       "351"
      ]
     },
     "execution_count": 41,
     "metadata": {
     },
     "output_type": "execute_result"
    }
   ],
   "source": [
    "noPeaks(5)"
   ]
  },
  {
   "cell_type": "code",
   "execution_count": 42,
   "metadata": {
    "collapsed": false
   },
   "outputs": [
    {
     "data": {
      "text/plain": [
       "2499"
      ]
     },
     "execution_count": 42,
     "metadata": {
     },
     "output_type": "execute_result"
    }
   ],
   "source": [
    "noPeaks(6)"
   ]
  },
  {
   "cell_type": "code",
   "execution_count": 43,
   "metadata": {
    "collapsed": false
   },
   "outputs": [
    {
     "data": {
      "text/plain": [
       "20823"
      ]
     },
     "execution_count": 43,
     "metadata": {
     },
     "output_type": "execute_result"
    }
   ],
   "source": [
    "noPeaks(7)"
   ]
  },
  {
   "cell_type": "markdown",
   "metadata": {
    "collapsed": false
   },
   "source": [
    "## How many parking functions of length $n$ have at least one peak\n",
    "\n",
    "we define a function `allPeaks` that takes in a natural number n and returns the number of parking functions of length n that have at least one peak.\n",
    "- `count=0` creates a counter and sets it equal to 0; we will be incrementing this value later\n",
    "- We create a list `PFn` and fill it with all the parking functions of length n\n",
    "- Using a for loop, we iterate through PFn \n",
    "  - We call the function `countPeaks` on the current element. \n",
    "  - If there is at least one peak, increment the counter by 1. \n",
    "- return count, which should be the number of parking functions of length n with peaks"
   ]
  },
  {
   "cell_type": "code",
   "execution_count": 44,
   "metadata": {
    "collapsed": false
   },
   "outputs": [
   ],
   "source": [
    "def allPeaks(n):\n",
    "    count = 0\n",
    "    PFn = ParkingFunctions(n).list()\n",
    "    for x in PFn:\n",
    "        if countPeaks(x)!=0:\n",
    "            count+=1\n",
    "    return count"
   ]
  },
  {
   "cell_type": "markdown",
   "metadata": {
    "collapsed": false
   },
   "source": [
    "## How many parking functions (length $n$, no permutations) have at least one peak"
   ]
  },
  {
   "cell_type": "code",
   "execution_count": 45,
   "metadata": {
    "collapsed": false
   },
   "outputs": [
   ],
   "source": [
    "def allPeaksR(n):\n",
    "    count = 0\n",
    "    PFn = withRepeats(n)\n",
    "    for x in PFn:\n",
    "        if countPeaks(x)!=0:\n",
    "            count+=1\n",
    "    return count"
   ]
  },
  {
   "cell_type": "markdown",
   "metadata": {
    "collapsed": false
   },
   "source": [
    "Computation (Sanity Check)"
   ]
  },
  {
   "cell_type": "code",
   "execution_count": 46,
   "metadata": {
    "collapsed": false
   },
   "outputs": [
    {
     "data": {
      "text/plain": [
       "945"
      ]
     },
     "execution_count": 46,
     "metadata": {
     },
     "output_type": "execute_result"
    }
   ],
   "source": [
    "allPeaks(5)"
   ]
  },
  {
   "cell_type": "code",
   "execution_count": 47,
   "metadata": {
    "collapsed": false
   },
   "outputs": [
    {
     "data": {
      "text/plain": [
       "1296"
      ]
     },
     "execution_count": 47,
     "metadata": {
     },
     "output_type": "execute_result"
    }
   ],
   "source": [
    "945+351"
   ]
  },
  {
   "cell_type": "code",
   "execution_count": 48,
   "metadata": {
    "collapsed": false
   },
   "outputs": [
    {
     "data": {
      "text/plain": [
       "4"
      ]
     },
     "execution_count": 48,
     "metadata": {
     },
     "output_type": "execute_result"
    }
   ],
   "source": [
    "allPeaks(3)"
   ]
  },
  {
   "cell_type": "code",
   "execution_count": 49,
   "metadata": {
    "collapsed": false
   },
   "outputs": [
    {
     "data": {
      "text/plain": [
       "66"
      ]
     },
     "execution_count": 49,
     "metadata": {
     },
     "output_type": "execute_result"
    }
   ],
   "source": [
    "allPeaks(4)"
   ]
  },
  {
   "cell_type": "code",
   "execution_count": 50,
   "metadata": {
    "collapsed": false
   },
   "outputs": [
    {
     "data": {
      "text/plain": [
       "14308"
      ]
     },
     "execution_count": 50,
     "metadata": {
     },
     "output_type": "execute_result"
    }
   ],
   "source": [
    "allPeaks(6)"
   ]
  },
  {
   "cell_type": "code",
   "execution_count": 51,
   "metadata": {
    "collapsed": false
   },
   "outputs": [
    {
     "data": {
      "text/plain": [
       "241321"
      ]
     },
     "execution_count": 51,
     "metadata": {
     },
     "output_type": "execute_result"
    }
   ],
   "source": [
    "allPeaks(7)"
   ]
  },
  {
   "cell_type": "code",
   "execution_count": 0,
   "metadata": {
    "collapsed": false
   },
   "outputs": [
   ],
   "source": [
    "noPeaks(8)"
   ]
  },
  {
   "cell_type": "code",
   "execution_count": 0,
   "metadata": {
    "collapsed": false
   },
   "outputs": [
   ],
   "source": [
    "#allPeaks(8)"
   ]
  },
  {
   "cell_type": "markdown",
   "metadata": {
    "collapsed": false
   },
   "source": [
    "## Count the number of parking of length $n$ with exactly one peak at the i-th position\n",
    "\n",
    "This code counts the number of peaks at a certain index in the parking functions list that are not permutations.\n",
    "- Start by assigning PFr to a list of parking functions of length $n$ (not including permutations) with exactly one peak\n",
    "- Subtract 1 from i to shift the indices over (i.e. instead of going from 1 to $n$, we go from 0 to $n-1$)\n",
    "- If the element is at the first (0) or last ($n-1$) index, we don't count this as a peak, thus it is invalid\n",
    "- When the current item in PFr has peak at index $i$, increment the count\n",
    "- Return the count"
   ]
  },
  {
   "cell_type": "code",
   "execution_count": 52,
   "metadata": {
    "collapsed": false
   },
   "outputs": [
   ],
   "source": [
    "def exactPeaks(i,n):\n",
    "    PFr = kPeaks(1,n)\n",
    "    count = 0\n",
    "    i -= 1\n",
    "    if i == 0 or i == n-1:\n",
    "        print (\"Invalid Index\")\n",
    "    for x in PFr:\n",
    "        if x[i-1] < x[i] and x[i] > x[i+1]:\n",
    "            count += 1 \n",
    "    return count\n"
   ]
  },
  {
   "cell_type": "markdown",
   "metadata": {
    "collapsed": false
   },
   "source": [
    "## Checks if a given parking function has peaks at exactly the given indices\n",
    "\n",
    "The function `jointPeaks` takes in two arguments: `I` is a list of indices and `PF` is a parking function\n",
    "- first we set a counter to 0\n",
    "- then we loop through all of the elements in our list of indices `I`\n",
    "- subtract 1 from the current element (so that we are going from 0 to n-1 instead of 1 to n)\n",
    "- if the current index is 0 or n-1, break the loop because the index is invalid\n",
    "- else, check if there is a peak in the parking function at the current index \n",
    "- if there is a peak, increase counter by 1\n",
    "- otherwise, break because that means our PF doesn't have peaks at all the indices of `I`\n",
    "- return true or false\n",
    "    - true if `count==len(I)` because this means we had peaks at the indices we wanted\n",
    "    - false if `count!=(lenI)` because this means ther our PF doesn't have a peak at least for one of our desired indices"
   ]
  },
  {
   "cell_type": "code",
   "execution_count": 53,
   "metadata": {
    "collapsed": false
   },
   "outputs": [
   ],
   "source": [
    "def jointPeaks(I, PF):\n",
    "    count = 0\n",
    "    for i in I:\n",
    "        i-=1\n",
    "        if i==0 or i==len(PF):\n",
    "            print(\"Invalid Index\")\n",
    "            break\n",
    "        else:\n",
    "            if PF[i-1] < PF[i] and PF[i+1] < PF[i]:\n",
    "                count+=1\n",
    "            else:\n",
    "                break\n",
    "    return count==len(I)"
   ]
  },
  {
   "cell_type": "markdown",
   "metadata": {
    "collapsed": false
   },
   "source": [
    "## Count the number of parking functions of length $n$ with exactly $k$ peaks at indices $i_1, i_2, \\cdots, i_k$ \n",
    "\n",
    "`kExactPeaks` takes in 2 arguments: `I` is the list of indices that you want there to be peaks at, `n` is the length of the parking functions you are considering\n",
    "- first we define PFr, which will hold all parking functions of length $n$ with exactly $k$ peaks (not including permutations)\n",
    "- set counter equal to 0\n",
    "- iterate through all the parking functions in PFr\n",
    "    - if current PF has peaks at all the desired indices, increment counter\n",
    "- at the end return count (number of PFs with exactly `len(I)` peaks at the indices in `I`)"
   ]
  },
  {
   "cell_type": "code",
   "execution_count": 54,
   "metadata": {
    "collapsed": false
   },
   "outputs": [
   ],
   "source": [
    "def kExactPeaks(I,n):\n",
    "    PFr = kPeaks(len(I),n)\n",
    "    count = 0\n",
    "    for x in PFr:\n",
    "        if jointPeaks(I,x):\n",
    "            count+=1\n",
    "    return count"
   ]
  },
  {
   "cell_type": "markdown",
   "metadata": {
    "collapsed": false
   },
   "source": [
    "Computation (Sanity check)"
   ]
  },
  {
   "cell_type": "code",
   "execution_count": 55,
   "metadata": {
    "collapsed": false
   },
   "outputs": [
    {
     "data": {
      "text/plain": [
       "True"
      ]
     },
     "execution_count": 55,
     "metadata": {
     },
     "output_type": "execute_result"
    }
   ],
   "source": [
    "jointPeaks([2,4],[1,2,1,2,1])"
   ]
  },
  {
   "cell_type": "code",
   "execution_count": 56,
   "metadata": {
    "collapsed": false
   },
   "outputs": [
    {
     "data": {
      "text/plain": [
       "1250"
      ]
     },
     "execution_count": 56,
     "metadata": {
     },
     "output_type": "execute_result"
    }
   ],
   "source": [
    "kExactPeaks([2,5],6)"
   ]
  },
  {
   "cell_type": "code",
   "execution_count": 57,
   "metadata": {
    "collapsed": false
   },
   "outputs": [
    {
     "data": {
      "text/plain": [
       "True"
      ]
     },
     "execution_count": 57,
     "metadata": {
     },
     "output_type": "execute_result"
    }
   ],
   "source": [
    "jointPeaks([2,4,6],[1,3,2,3,1,4,1])"
   ]
  },
  {
   "cell_type": "code",
   "execution_count": 58,
   "metadata": {
    "collapsed": false
   },
   "outputs": [
    {
     "data": {
      "text/plain": [
       "False"
      ]
     },
     "execution_count": 58,
     "metadata": {
     },
     "output_type": "execute_result"
    }
   ],
   "source": [
    "jointPeaks([2,4],[1,3,2,1,1])"
   ]
  },
  {
   "cell_type": "markdown",
   "metadata": {
    "collapsed": false
   },
   "source": [
    "jointPeaks([2,4],[1,1,2,3,1])"
   ]
  },
  {
   "cell_type": "code",
   "execution_count": 60,
   "metadata": {
    "collapsed": false
   },
   "outputs": [
    {
     "data": {
      "text/plain": [
       "False"
      ]
     },
     "execution_count": 60,
     "metadata": {
     },
     "output_type": "execute_result"
    }
   ],
   "source": [
    "jointPeaks([2,4],[1,2,2,1,3])"
   ]
  },
  {
   "cell_type": "code",
   "execution_count": 61,
   "metadata": {
    "collapsed": false
   },
   "outputs": [
   ],
   "source": [
    "#exactPeaks(2,8)"
   ]
  },
  {
   "cell_type": "code",
   "execution_count": 0,
   "metadata": {
    "collapsed": false
   },
   "outputs": [
   ],
   "source": [
    "len(withRepeats(6))"
   ]
  },
  {
   "cell_type": "code",
   "execution_count": 0,
   "metadata": {
    "collapsed": false
   },
   "outputs": [
   ],
   "source": [
    "16087-2467-1697-2947-2947-1697-1541-1541"
   ]
  },
  {
   "cell_type": "code",
   "execution_count": 62,
   "metadata": {
    "collapsed": false
   },
   "outputs": [
    {
     "data": {
      "text/plain": [
       "2"
      ]
     },
     "execution_count": 62,
     "metadata": {
     },
     "output_type": "execute_result"
    }
   ],
   "source": [
    "kExactPeaks([2],3)"
   ]
  },
  {
   "cell_type": "code",
   "execution_count": 63,
   "metadata": {
    "collapsed": false
   },
   "outputs": [
   ],
   "source": [
    "n = 8"
   ]
  },
  {
   "cell_type": "code",
   "execution_count": 64,
   "metadata": {
    "collapsed": false
   },
   "outputs": [
    {
     "data": {
      "text/plain": [
       "4782969"
      ]
     },
     "execution_count": 64,
     "metadata": {
     },
     "output_type": "execute_result"
    }
   ],
   "source": [
    "(n+1)^(n-1)"
   ]
  },
  {
   "cell_type": "code",
   "execution_count": 65,
   "metadata": {
    "collapsed": false
   },
   "outputs": [
    {
     "data": {
      "text/plain": [
       "4742649"
      ]
     },
     "execution_count": 65,
     "metadata": {
     },
     "output_type": "execute_result"
    }
   ],
   "source": [
    "4782969 - factorial(8)"
   ]
  },
  {
   "cell_type": "code",
   "execution_count": 122,
   "metadata": {
    "collapsed": false
   },
   "outputs": [
   ],
   "source": [
    "def NDPFr(n):\n",
    "    A = NonDecreasingParkingFunctions(n)\n",
    "    B = Permutations(n)\n",
    "    C = Set(A).difference(Set(B))\n",
    "    return list(C)"
   ]
  },
  {
   "cell_type": "code",
   "execution_count": 123,
   "metadata": {
    "collapsed": false
   },
   "outputs": [
   ],
   "source": [
    "def ArrangementsNoPeaks(X):\n",
    "    X=list(Arrangements(X,len(X)))\n",
    "    noPeakList=[]\n",
    "    for x in X:\n",
    "        if countPeaks(x)==0:\n",
    "            noPeakList.append(x)\n",
    "    return noPeakList"
   ]
  },
  {
   "cell_type": "code",
   "execution_count": 124,
   "metadata": {
    "collapsed": false
   },
   "outputs": [
    {
     "data": {
      "text/plain": [
       "[([1, 1, 3], 2),\n",
       " ([1, 2, 2], 3),\n",
       " ([1, 1, 1], 1),\n",
       " ([1, 2, 3], 4),\n",
       " ([1, 1, 2], 2)]"
      ]
     },
     "execution_count": 124,
     "metadata": {
     },
     "output_type": "execute_result"
    }
   ],
   "source": [
    "[(NDPFr(3)[i],len(ArrangementsNoPeaks(NDPFr(3)[i]))) for i in range(len(NDPFr(3)))]"
   ]
  },
  {
   "cell_type": "code",
   "execution_count": 125,
   "metadata": {
    "collapsed": false
   },
   "outputs": [
    {
     "data": {
      "text/plain": [
       "[([1, 1, 1, 4, 4, 5, 5], 43),\n",
       " ([1, 2, 2, 4, 4, 6, 7], 60),\n",
       " ([1, 1, 1, 1, 1, 3, 3], 7),\n",
       " ([1, 1, 1, 3, 3, 3, 6], 20),\n",
       " ([1, 2, 2, 3, 3, 4, 4], 129),\n",
       " ([1, 2, 3, 4, 4, 5, 6], 96),\n",
       " ([1, 1, 2, 2, 3, 3, 3], 64),\n",
       " ([1, 2, 2, 2, 2, 5, 5], 35),\n",
       " ([1, 1, 2, 2, 3, 5, 6], 32),\n",
       " ([1, 1, 1, 1, 3, 4, 4], 20),\n",
       " ([1, 2, 2, 2, 4, 5, 6], 32),\n",
       " ([1, 1, 3, 4, 5, 6, 6], 144),\n",
       " ([1, 1, 1, 1, 1, 2, 3], 4),\n",
       " ([1, 1, 3, 3, 5, 6, 6], 96),\n",
       " ([1, 1, 2, 3, 3, 3, 3], 49),\n",
       " ([1, 2, 2, 2, 2, 2, 4], 12),\n",
       " ([1, 2, 2, 3, 3, 3, 3], 54),\n",
       " ([1, 2, 2, 2, 3, 6, 6], 80),\n",
       " ([1, 2, 2, 3, 5, 5, 7], 96),\n",
       " ([1, 2, 2, 4, 4, 5, 6], 60),\n",
       " ([1, 1, 1, 2, 2, 2, 2], 18),\n",
       " ([1, 1, 3, 3, 4, 4, 6], 56),\n",
       " ([1, 1, 1, 2, 4, 6, 6], 56),\n",
       " ([1, 1, 1, 1, 4, 4, 5], 12),\n",
       " ([1, 1, 2, 2, 3, 4, 4], 96),\n",
       " ([1, 1, 2, 3, 5, 5, 6], 80),\n",
       " ([1, 1, 3, 3, 3, 3, 5], 22),\n",
       " ([1, 2, 2, 2, 3, 3, 7], 48),\n",
       " ([1, 1, 1, 1, 1, 1, 4], 2),\n",
       " ([1, 2, 3, 3, 5, 6, 7], 64),\n",
       " ([1, 2, 2, 4, 4, 4, 4], 54),\n",
       " ([1, 1, 2, 3, 4, 4, 4], 100),\n",
       " ([1, 1, 3, 3, 4, 6, 7], 32),\n",
       " ([1, 1, 1, 3, 4, 4, 5], 32),\n",
       " ([1, 1, 1, 1, 2, 4, 6], 8),\n",
       " ([1, 1, 2, 2, 4, 4, 5], 56),\n",
       " ([1, 1, 2, 2, 2, 2, 5], 22),\n",
       " ([1, 1, 2, 3, 3, 3, 4], 52),\n",
       " ([1, 1, 1, 1, 3, 5, 7], 8),\n",
       " ([1, 1, 3, 4, 5, 5, 7], 80),\n",
       " ([1, 1, 1, 3, 3, 5, 5], 43),\n",
       " ([1, 2, 3, 3, 4, 4, 5], 112),\n",
       " ([1, 1, 1, 3, 5, 5, 5], 38),\n",
       " ([1, 1, 1, 1, 3, 6, 7], 8),\n",
       " ([1, 1, 2, 3, 3, 4, 5], 48),\n",
       " ([1, 2, 2, 3, 5, 6, 7], 48),\n",
       " ([1, 1, 3, 4, 4, 4, 6], 52),\n",
       " ([1, 2, 3, 3, 3, 6, 6], 110),\n",
       " ([1, 1, 1, 4, 4, 5, 6], 20),\n",
       " ([1, 2, 2, 3, 4, 5, 5], 168),\n",
       " ([1, 1, 2, 2, 2, 4, 6], 28),\n",
       " ([1, 2, 3, 4, 4, 5, 5], 228),\n",
       " ([1, 2, 2, 2, 2, 3, 3], 35),\n",
       " ([1, 1, 2, 2, 3, 5, 7], 32),\n",
       " ([1, 1, 1, 1, 3, 4, 7], 8),\n",
       " ([1, 2, 2, 2, 4, 5, 7], 32),\n",
       " ([1, 1, 3, 4, 5, 6, 7], 32),\n",
       " ([1, 1, 1, 1, 1, 2, 2], 7),\n",
       " ([1, 1, 2, 2, 3, 6, 7], 32),\n",
       " ([1, 2, 3, 3, 5, 5, 7], 112),\n",
       " ([1, 1, 1, 1, 2, 3, 5], 8),\n",
       " ([1, 2, 2, 3, 3, 3, 4], 60),\n",
       " ([1, 1, 3, 3, 4, 5, 7], 32),\n",
       " ([1, 2, 2, 4, 4, 5, 7], 60),\n",
       " ([1, 1, 1, 2, 2, 2, 5], 20),\n",
       " ([1, 1, 3, 3, 4, 4, 7], 56),\n",
       " ([1, 2, 2, 2, 3, 5, 5], 80),\n",
       " ([1, 1, 1, 1, 2, 6, 6], 20),\n",
       " ([1, 2, 2, 3, 4, 6, 6], 168),\n",
       " ([1, 2, 2, 2, 2, 2, 3], 12),\n",
       " ([1, 1, 2, 2, 3, 4, 7], 32),\n",
       " ([1, 2, 2, 2, 4, 4, 7], 48),\n",
       " ([1, 1, 1, 3, 4, 6, 7], 16),\n",
       " ([1, 1, 3, 3, 3, 3, 6], 22),\n",
       " ([1, 2, 2, 2, 3, 3, 6], 48),\n",
       " ([1, 1, 2, 2, 2, 3, 5], 28),\n",
       " ([1, 1, 1, 1, 1, 1, 5], 2),\n",
       " ([1, 1, 3, 4, 4, 5, 5], 114),\n",
       " ([1, 2, 3, 3, 3, 4, 4], 110),\n",
       " ([1, 2, 2, 4, 4, 4, 7], 60),\n",
       " ([1, 1, 1, 2, 2, 5, 5], 43),\n",
       " ([1, 1, 3, 4, 4, 4, 4], 49),\n",
       " ([1, 1, 1, 2, 4, 5, 5], 56),\n",
       " ([1, 1, 2, 2, 2, 6, 6], 55),\n",
       " ([1, 1, 1, 3, 4, 4, 6], 32),\n",
       " ([1, 1, 1, 1, 2, 4, 7], 8),\n",
       " ([1, 2, 2, 2, 4, 6, 7], 32),\n",
       " ([1, 1, 2, 3, 3, 3, 7], 52),\n",
       " ([1, 1, 1, 1, 5, 5, 5], 13),\n",
       " ([1, 1, 1, 3, 3, 5, 6], 20),\n",
       " ([1, 2, 3, 3, 4, 4, 4], 128),\n",
       " ([1, 2, 2, 2, 5, 5, 5], 52),\n",
       " ([1, 1, 1, 1, 3, 6, 6], 20),\n",
       " ([1, 1, 2, 3, 3, 4, 6], 48),\n",
       " ([1, 2, 2, 4, 5, 6, 6], 168),\n",
       " ([1, 2, 2, 3, 5, 6, 6], 168),\n",
       " ([1, 1, 1, 1, 2, 2, 6], 12),\n",
       " ([1, 2, 3, 3, 3, 3, 3], 32),\n",
       " ([1, 1, 1, 3, 4, 6, 6], 56),\n",
       " ([1, 1, 1, 4, 4, 5, 7], 20),\n",
       " ([1, 1, 2, 2, 2, 4, 7], 28),\n",
       " ([1, 1, 1, 1, 2, 5, 7], 8),\n",
       " ([1, 2, 2, 3, 4, 4, 7], 96),\n",
       " ([1, 1, 3, 3, 3, 4, 5], 28),\n",
       " ([1, 2, 2, 2, 2, 3, 4], 20),\n",
       " ([1, 2, 2, 2, 3, 5, 6], 32),\n",
       " ([1, 1, 1, 1, 3, 4, 6], 8),\n",
       " ([1, 1, 2, 2, 5, 5, 5], 64),\n",
       " ([1, 1, 1, 1, 1, 2, 5], 4),\n",
       " ([1, 1, 2, 2, 3, 6, 6], 96),\n",
       " ([1, 2, 2, 2, 4, 4, 4], 52),\n",
       " ([1, 2, 3, 3, 5, 5, 6], 112),\n",
       " ([1, 1, 2, 4, 4, 4, 4], 49),\n",
       " ([1, 1, 1, 1, 2, 3, 4], 8),\n",
       " ([1, 2, 2, 2, 5, 6, 6], 80),\n",
       " ([1, 2, 2, 3, 3, 3, 5], 60),\n",
       " ([1, 1, 3, 3, 4, 5, 6], 32),\n",
       " ([1, 1, 1, 4, 4, 4, 7], 20),\n",
       " ([1, 1, 1, 2, 2, 2, 4], 20),\n",
       " ([1, 1, 3, 3, 4, 4, 4], 64),\n",
       " ([1, 1, 2, 2, 2, 5, 7], 28),\n",
       " ([1, 1, 1, 1, 2, 6, 7], 8),\n",
       " ([1, 1, 1, 2, 2, 3, 6], 20),\n",
       " ([1, 2, 2, 3, 4, 6, 7], 48),\n",
       " ([1, 1, 1, 2, 5, 5, 5], 38),\n",
       " ([1, 2, 2, 2, 2, 2, 2], 7),\n",
       " ([1, 1, 2, 2, 3, 4, 6], 32),\n",
       " ([1, 2, 2, 2, 4, 4, 6], 48),\n",
       " ([1, 1, 2, 2, 5, 5, 6], 56),\n",
       " ([1, 1, 1, 1, 1, 5, 5], 7),\n",
       " ([1, 1, 2, 3, 3, 6, 6], 114),\n",
       " ([1, 1, 3, 3, 3, 3, 7], 22),\n",
       " ([1, 2, 2, 4, 5, 5, 7], 96),\n",
       " ([1, 1, 2, 2, 2, 3, 4], 28),\n",
       " ([1, 1, 1, 1, 1, 1, 6], 2),\n",
       " ([1, 2, 3, 3, 3, 4, 5], 56),\n",
       " ([1, 1, 1, 4, 4, 6, 7], 20),\n",
       " ([1, 2, 2, 4, 4, 4, 6], 60),\n",
       " ([1, 1, 1, 2, 2, 5, 6], 20),\n",
       " ([1, 1, 2, 2, 2, 6, 7], 28),\n",
       " ([1, 1, 1, 3, 4, 4, 7], 32),\n",
       " ([1, 1, 1, 4, 5, 5, 5], 38),\n",
       " ([1, 2, 2, 2, 4, 6, 6], 80),\n",
       " ([1, 1, 3, 3, 3, 5, 6], 28),\n",
       " ([1, 1, 3, 4, 5, 5, 6], 80),\n",
       " ([1, 1, 1, 3, 3, 3, 5], 20),\n",
       " ([1, 1, 1, 1, 3, 5, 5], 20),\n",
       " ([1, 1, 1, 2, 5, 6, 6], 56),\n",
       " ([1, 1, 1, 1, 5, 5, 6], 12),\n",
       " ([1, 1, 1, 3, 3, 5, 7], 20),\n",
       " ([1, 1, 2, 3, 3, 4, 7], 48),\n",
       " ([1, 1, 2, 3, 4, 4, 5], 80),\n",
       " ([1, 2, 2, 4, 5, 6, 7], 48),\n",
       " ([1, 1, 1, 1, 2, 2, 7], 12),\n",
       " ([1, 1, 2, 3, 4, 5, 5], 144),\n",
       " ([1, 2, 2, 3, 4, 5, 7], 48),\n",
       " ([1, 1, 1, 3, 4, 5, 7], 16),\n",
       " ([1, 1, 1, 1, 2, 5, 6], 8),\n",
       " ([1, 1, 3, 3, 3, 4, 4], 55),\n",
       " ([1, 2, 2, 2, 2, 3, 5], 20),\n",
       " ([1, 1, 1, 4, 5, 6, 6], 56),\n",
       " ([1, 1, 2, 2, 3, 5, 5], 96),\n",
       " ([1, 1, 3, 4, 5, 5, 5], 100),\n",
       " ([1, 1, 1, 3, 3, 4, 7], 20),\n",
       " ([1, 1, 1, 1, 1, 2, 4], 4),\n",
       " ([1, 1, 2, 3, 3, 5, 7], 48),\n",
       " ([1, 1, 1, 1, 1, 3, 6], 4),\n",
       " ([1, 1, 2, 4, 4, 4, 5], 52),\n",
       " ([1, 1, 1, 1, 2, 3, 7], 8),\n",
       " ([1, 2, 2, 2, 5, 6, 7], 32),\n",
       " ([1, 2, 2, 3, 3, 3, 6], 60),\n",
       " ([1, 2, 2, 4, 4, 5, 5], 129),\n",
       " ([1, 1, 2, 4, 5, 5, 6], 80),\n",
       " ([1, 1, 1, 4, 4, 4, 6], 20),\n",
       " ([1, 1, 1, 2, 2, 2, 7], 20),\n",
       " ([1, 1, 3, 3, 4, 4, 5], 56),\n",
       " ([1, 1, 2, 2, 2, 5, 6], 28),\n",
       " ([1, 2, 2, 2, 3, 3, 3], 52),\n",
       " ([1, 1, 1, 2, 2, 3, 7], 20),\n",
       " ([1, 1, 1, 3, 3, 6, 7], 20),\n",
       " ([1, 2, 2, 2, 4, 4, 5], 48),\n",
       " ([1, 1, 1, 1, 2, 2, 2], 13),\n",
       " ([1, 1, 1, 1, 1, 5, 6], 4),\n",
       " ([1, 1, 2, 3, 3, 6, 7], 48),\n",
       " ([1, 2, 3, 4, 5, 5, 7], 160),\n",
       " ([1, 2, 2, 4, 5, 5, 6], 96),\n",
       " ([1, 1, 2, 2, 2, 3, 7], 28),\n",
       " ([1, 1, 1, 1, 1, 1, 7], 2),\n",
       " ([1, 2, 3, 3, 3, 4, 6], 56),\n",
       " ([1, 1, 1, 4, 4, 6, 6], 43),\n",
       " ([1, 1, 1, 2, 2, 5, 7], 20),\n",
       " ([1, 1, 3, 3, 3, 5, 7], 28),\n",
       " ([1, 1, 1, 2, 4, 4, 6], 32),\n",
       " ([1, 1, 1, 1, 3, 3, 3], 13),\n",
       " ([1, 1, 3, 3, 3, 6, 7], 28),\n",
       " ([1, 1, 1, 2, 5, 6, 7], 16),\n",
       " ([1, 1, 1, 1, 5, 5, 7], 12),\n",
       " ([1, 1, 3, 4, 4, 6, 6], 114),\n",
       " ([1, 2, 3, 4, 5, 6, 7], 64),\n",
       " ([1, 1, 1, 1, 2, 2, 4], 12),\n",
       " ([1, 1, 1, 2, 3, 3, 5], 32),\n",
       " ([1, 2, 3, 4, 4, 4, 4], 98),\n",
       " ([1, 1, 2, 3, 4, 5, 6], 32),\n",
       " ([1, 1, 1, 2, 2, 4, 7], 20),\n",
       " ([1, 2, 2, 3, 4, 5, 6], 48),\n",
       " ([1, 1, 1, 3, 4, 5, 6], 16),\n",
       " ([1, 1, 1, 1, 2, 5, 5], 20),\n",
       " ([1, 1, 3, 3, 3, 4, 7], 28),\n",
       " ([1, 2, 2, 2, 2, 3, 6], 20),\n",
       " ([1, 1, 1, 4, 5, 6, 7], 16),\n",
       " ([1, 2, 3, 3, 3, 3, 5], 44),\n",
       " ([1, 1, 2, 2, 5, 5, 7], 56),\n",
       " ([1, 1, 1, 3, 3, 4, 6], 20),\n",
       " ([1, 1, 1, 1, 1, 2, 7], 4),\n",
       " ([1, 1, 2, 2, 2, 2, 7], 22),\n",
       " ([1, 1, 2, 3, 3, 5, 6], 48),\n",
       " ([1, 2, 2, 2, 3, 4, 4], 80),\n",
       " ([1, 1, 1, 1, 1, 3, 7], 4),\n",
       " ([1, 1, 2, 4, 4, 4, 6], 52),\n",
       " ([1, 1, 1, 1, 2, 3, 6], 8),\n",
       " ([1, 2, 2, 3, 4, 4, 6], 96),\n",
       " ([1, 1, 1, 2, 2, 6, 7], 20),\n",
       " ([1, 2, 2, 3, 3, 3, 7], 60),\n",
       " ([1, 2, 2, 2, 3, 5, 7], 32),\n",
       " ([1, 1, 2, 4, 5, 5, 7], 80),\n",
       " ([1, 1, 1, 4, 4, 4, 5], 20),\n",
       " ([1, 1, 1, 2, 2, 2, 6], 20),\n",
       " ([1, 1, 2, 2, 2, 5, 5], 55),\n",
       " ([1, 1, 1, 2, 3, 5, 5], 56),\n",
       " ([1, 1, 1, 2, 2, 3, 4], 20),\n",
       " ([1, 1, 2, 4, 4, 5, 5], 114),\n",
       " ([1, 1, 1, 1, 5, 6, 7], 8),\n",
       " ([1, 1, 1, 3, 3, 6, 6], 43),\n",
       " ([1, 1, 2, 2, 2, 2, 4], 22),\n",
       " ([1, 2, 2, 3, 3, 5, 6], 60),\n",
       " ([1, 1, 1, 1, 1, 5, 7], 4),\n",
       " ([1, 1, 2, 4, 5, 6, 7], 32),\n",
       " ([1, 1, 1, 1, 4, 5, 5], 20),\n",
       " ([1, 2, 2, 4, 5, 5, 5], 114),\n",
       " ([1, 1, 2, 2, 2, 3, 6], 28),\n",
       " ([1, 1, 1, 1, 1, 3, 5], 4),\n",
       " ([1, 2, 3, 3, 3, 4, 7], 56),\n",
       " ([1, 2, 2, 2, 2, 4, 5], 20),\n",
       " ([1, 2, 3, 3, 4, 5, 5], 192),\n",
       " ([1, 1, 1, 4, 5, 5, 7], 32),\n",
       " ([1, 1, 2, 2, 5, 6, 7], 32),\n",
       " ([1, 1, 3, 3, 5, 5, 5], 64),\n",
       " ([1, 1, 1, 2, 3, 6, 6], 56),\n",
       " ([1, 1, 1, 1, 3, 3, 4], 12),\n",
       " ([1, 1, 3, 3, 3, 6, 6], 55),\n",
       " ([1, 1, 1, 1, 1, 4, 7], 4),\n",
       " ([1, 2, 2, 2, 5, 5, 6], 48),\n",
       " ([1, 1, 2, 2, 4, 5, 5], 96),\n",
       " ([1, 1, 1, 2, 5, 5, 6], 32),\n",
       " ([1, 1, 2, 4, 4, 6, 6], 114),\n",
       " ([1, 1, 1, 1, 2, 2, 5], 12),\n",
       " ([1, 2, 3, 3, 3, 5, 7], 56),\n",
       " ([1, 1, 1, 1, 4, 6, 6], 20),\n",
       " ([1, 2, 3, 4, 4, 4, 5], 104),\n",
       " ([1, 1, 2, 3, 4, 5, 7], 32),\n",
       " ([1, 1, 1, 3, 3, 3, 4], 20),\n",
       " ([1, 1, 1, 2, 2, 4, 6], 20),\n",
       " ([1, 1, 1, 3, 4, 5, 5], 56),\n",
       " ([1, 1, 1, 2, 3, 4, 6], 16),\n",
       " ([1, 1, 2, 3, 4, 4, 6], 80),\n",
       " ([1, 1, 3, 3, 3, 4, 6], 28),\n",
       " ([1, 1, 1, 1, 1, 6, 7], 4),\n",
       " ([1, 2, 2, 2, 2, 3, 7], 20),\n",
       " ([1, 1, 2, 2, 3, 3, 4], 56),\n",
       " ([1, 2, 3, 3, 3, 3, 4], 44),\n",
       " ([1, 1, 1, 3, 3, 4, 5], 20),\n",
       " ([1, 1, 1, 1, 1, 2, 6], 4),\n",
       " ([1, 1, 1, 2, 3, 3, 7], 32),\n",
       " ([1, 1, 2, 3, 3, 5, 5], 114),\n",
       " ([1, 1, 2, 2, 2, 2, 6], 22),\n",
       " ([1, 2, 2, 2, 3, 4, 5], 32),\n",
       " ([1, 1, 1, 1, 1, 3, 4], 4),\n",
       " ([1, 1, 2, 4, 4, 4, 7], 52),\n",
       " ([1, 2, 3, 3, 3, 6, 7], 56),\n",
       " ([1, 1, 2, 2, 4, 6, 6], 96),\n",
       " ([1, 1, 1, 2, 2, 6, 6], 43),\n",
       " ([1, 2, 2, 2, 2, 5, 6], 20),\n",
       " ([1, 1, 1, 4, 4, 4, 4], 18),\n",
       " ([1, 1, 2, 4, 5, 6, 6], 144),\n",
       " ([1, 1, 1, 2, 2, 3, 5], 20),\n",
       " ([1, 1, 1, 1, 5, 6, 6], 20),\n",
       " ([1, 2, 2, 2, 2, 2, 7], 12),\n",
       " ([1, 2, 2, 3, 3, 5, 7], 60),\n",
       " ([1, 2, 2, 3, 3, 6, 7], 60),\n",
       " ([1, 1, 2, 4, 4, 5, 7], 48),\n",
       " ([1, 1, 2, 3, 4, 6, 7], 32),\n",
       " ([1, 1, 1, 1, 4, 4, 6], 12),\n",
       " ([1, 2, 2, 2, 2, 4, 4], 35),\n",
       " ([1, 1, 2, 3, 5, 5, 5], 100),\n",
       " ([1, 2, 3, 3, 4, 5, 6], 64),\n",
       " ([1, 1, 1, 4, 5, 5, 6], 32),\n",
       " ([1, 2, 3, 4, 5, 5, 6], 160),\n",
       " ([1, 1, 2, 2, 5, 6, 6], 96),\n",
       " ([1, 1, 1, 1, 1, 1, 1], 1),\n",
       " ([1, 1, 3, 3, 5, 5, 6], 56),\n",
       " ([1, 1, 1, 2, 3, 6, 7], 16),\n",
       " ([1, 1, 1, 1, 2, 2, 3], 12),\n",
       " ([1, 1, 1, 1, 3, 3, 5], 12),\n",
       " ([1, 2, 2, 3, 3, 4, 7], 60),\n",
       " ([1, 1, 1, 2, 4, 4, 5], 32),\n",
       " ([1, 1, 1, 1, 1, 4, 6], 4),\n",
       " ([1, 2, 2, 3, 4, 4, 5], 96),\n",
       " ([1, 2, 2, 3, 3, 4, 5], 60),\n",
       " ([1, 1, 2, 4, 4, 6, 7], 48),\n",
       " ([1, 1, 2, 2, 4, 4, 6], 56),\n",
       " ([1, 2, 3, 3, 3, 5, 6], 56),\n",
       " ([1, 1, 1, 1, 4, 6, 7], 8),\n",
       " ([1, 2, 3, 3, 5, 6, 6], 192),\n",
       " ([1, 2, 3, 4, 4, 4, 6], 104),\n",
       " ([1, 1, 1, 2, 2, 4, 5], 20),\n",
       " ([1, 2, 2, 4, 4, 6, 6], 129),\n",
       " ([1, 1, 1, 3, 5, 5, 6], 32),\n",
       " ([1, 1, 1, 2, 3, 4, 7], 16),\n",
       " ([1, 1, 2, 3, 5, 6, 6], 144),\n",
       " ([1, 1, 1, 1, 1, 6, 6], 7),\n",
       " ([1, 1, 3, 4, 4, 4, 5], 52),\n",
       " ([1, 1, 2, 2, 3, 3, 5], 56),\n",
       " ([1, 2, 3, 3, 3, 3, 7], 44),\n",
       " ([1, 1, 1, 3, 3, 4, 4], 43),\n",
       " ([1, 1, 2, 3, 3, 3, 5], 52),\n",
       " ([1, 1, 1, 2, 3, 3, 6], 32),\n",
       " ([1, 2, 2, 2, 3, 4, 6], 32),\n",
       " ([1, 2, 3, 3, 4, 6, 6], 192),\n",
       " ([1, 1, 2, 2, 4, 6, 7], 32),\n",
       " ([1, 1, 1, 2, 4, 5, 7], 16),\n",
       " ([1, 2, 2, 2, 2, 5, 7], 20),\n",
       " ([1, 1, 2, 4, 5, 5, 5], 100),\n",
       " ([1, 2, 2, 2, 2, 6, 7], 20),\n",
       " ([1, 1, 1, 2, 3, 5, 7], 16),\n",
       " ([1, 1, 3, 3, 3, 5, 5], 55),\n",
       " ([1, 1, 2, 2, 2, 2, 2], 16),\n",
       " ([1, 2, 2, 2, 2, 2, 6], 12),\n",
       " ([1, 2, 2, 3, 5, 5, 5], 114),\n",
       " ([1, 2, 2, 3, 3, 6, 6], 129),\n",
       " ([1, 1, 1, 1, 4, 5, 7], 8),\n",
       " ([1, 1, 1, 3, 3, 3, 3], 18),\n",
       " ([1, 1, 2, 3, 4, 6, 6], 144),\n",
       " ([1, 1, 1, 1, 4, 4, 7], 12),\n",
       " ([1, 1, 2, 4, 4, 5, 6], 48),\n",
       " ([1, 2, 3, 4, 4, 6, 6], 228),\n",
       " ([1, 2, 2, 2, 2, 4, 7], 20),\n",
       " ([1, 2, 3, 3, 4, 5, 7], 64),\n",
       " ([1, 2, 2, 2, 5, 5, 7], 48),\n",
       " ([1, 1, 3, 3, 3, 3, 3], 16),\n",
       " ([1, 2, 2, 2, 3, 3, 5], 48),\n",
       " ([1, 1, 1, 1, 1, 1, 2], 2),\n",
       " ([1, 1, 3, 3, 5, 5, 7], 56),\n",
       " ([1, 1, 3, 4, 4, 5, 6], 48),\n",
       " ([1, 1, 1, 1, 3, 3, 6], 12),\n",
       " ([1, 2, 2, 3, 3, 4, 6], 60),\n",
       " ([1, 1, 1, 2, 5, 5, 7], 32),\n",
       " ([1, 1, 1, 2, 4, 4, 4], 38),\n",
       " ([1, 1, 1, 1, 1, 4, 5], 4),\n",
       " ([1, 1, 2, 2, 4, 5, 7], 32),\n",
       " ([1, 1, 1, 2, 4, 5, 6], 16),\n",
       " ([1, 1, 1, 1, 2, 4, 4], 20),\n",
       " ([1, 1, 2, 2, 4, 4, 7], 56),\n",
       " ([1, 2, 3, 3, 3, 5, 5], 110),\n",
       " ([1, 2, 3, 4, 4, 4, 7], 104),\n",
       " ([1, 1, 1, 2, 2, 4, 4], 43),\n",
       " ([1, 2, 3, 3, 4, 4, 7], 112),\n",
       " ([1, 1, 1, 3, 5, 5, 7], 32),\n",
       " ([1, 1, 1, 2, 3, 4, 4], 56),\n",
       " ([1, 1, 1, 2, 3, 3, 3], 38),\n",
       " ([1, 1, 2, 3, 5, 6, 7], 32),\n",
       " ([1, 2, 3, 4, 5, 6, 6], 288),\n",
       " ([1, 1, 2, 2, 3, 3, 6], 56),\n",
       " ([1, 2, 3, 3, 3, 3, 6], 44),\n",
       " ([1, 2, 2, 4, 4, 4, 5], 60),\n",
       " ([1, 1, 1, 3, 3, 3, 7], 20),\n",
       " ([1, 2, 2, 2, 3, 4, 7], 32),\n",
       " ([1, 1, 2, 2, 2, 4, 4], 55),\n",
       " ([1, 1, 1, 1, 2, 3, 3], 20),\n",
       " ([1, 1, 2, 3, 4, 4, 7], 80),\n",
       " ([1, 2, 3, 4, 4, 5, 7], 96),\n",
       " ([1, 2, 3, 3, 4, 6, 7], 64),\n",
       " ([1, 1, 1, 1, 3, 4, 5], 8),\n",
       " ([1, 2, 2, 2, 4, 5, 5], 80),\n",
       " ([1, 2, 3, 4, 5, 5, 5], 200),\n",
       " ([1, 2, 2, 2, 2, 6, 6], 35),\n",
       " ([1, 1, 3, 3, 5, 6, 7], 32),\n",
       " ([1, 1, 1, 2, 3, 5, 6], 16),\n",
       " ([1, 1, 2, 3, 3, 4, 4], 114),\n",
       " ([1, 1, 1, 2, 2, 3, 3], 43),\n",
       " ([1, 2, 3, 3, 5, 5, 5], 128),\n",
       " ([1, 1, 2, 2, 2, 2, 3], 22),\n",
       " ([1, 2, 2, 2, 2, 2, 5], 12),\n",
       " ([1, 2, 2, 3, 3, 5, 5], 129),\n",
       " ([1, 1, 3, 3, 4, 5, 5], 96),\n",
       " ([1, 2, 2, 3, 5, 5, 6], 96),\n",
       " ([1, 1, 1, 3, 5, 6, 7], 16),\n",
       " ([1, 1, 1, 2, 2, 2, 3], 20),\n",
       " ([1, 1, 1, 1, 4, 5, 6], 8),\n",
       " ([1, 1, 1, 2, 4, 6, 7], 16),\n",
       " ([1, 1, 2, 2, 2, 3, 3], 55),\n",
       " ([1, 1, 1, 1, 4, 4, 4], 13),\n",
       " ([1, 2, 3, 4, 4, 6, 7], 96),\n",
       " ([1, 2, 2, 2, 2, 4, 6], 20),\n",
       " ([1, 1, 2, 2, 3, 4, 5], 32),\n",
       " ([1, 1, 2, 3, 5, 5, 7], 80),\n",
       " ([1, 1, 1, 3, 5, 6, 6], 56),\n",
       " ([1, 1, 3, 3, 3, 3, 4], 22),\n",
       " ([1, 2, 2, 2, 3, 3, 4], 48),\n",
       " ([1, 1, 1, 1, 1, 1, 3], 2),\n",
       " ([1, 1, 3, 4, 4, 5, 7], 48),\n",
       " ([1, 1, 2, 3, 3, 3, 6], 52),\n",
       " ([1, 1, 1, 1, 3, 3, 7], 12),\n",
       " ([1, 1, 1, 2, 4, 4, 7], 32),\n",
       " ([1, 1, 1, 1, 1, 4, 4], 7),\n",
       " ([1, 1, 3, 4, 4, 6, 7], 48),\n",
       " ([1, 1, 2, 2, 4, 5, 6], 32),\n",
       " ([1, 2, 2, 2, 3, 6, 7], 32),\n",
       " ([1, 1, 3, 3, 4, 6, 6], 96),\n",
       " ([1, 1, 1, 3, 4, 4, 4], 38),\n",
       " ([1, 1, 1, 1, 2, 4, 5], 8),\n",
       " ([1, 1, 2, 2, 4, 4, 4], 64),\n",
       " ([1, 1, 2, 2, 2, 4, 5], 28),\n",
       " ([1, 1, 1, 1, 3, 5, 6], 8),\n",
       " ([1, 2, 3, 3, 4, 4, 6], 112),\n",
       " ([1, 1, 1, 2, 3, 4, 5], 16),\n",
       " ([1, 2, 2, 3, 4, 4, 4], 114),\n",
       " ([1, 1, 3, 4, 4, 4, 7], 52),\n",
       " ([1, 1, 2, 2, 3, 3, 7], 56),\n",
       " ([1, 1, 1, 2, 3, 3, 4], 32)]"
      ]
     },
     "execution_count": 125,
     "metadata": {
     },
     "output_type": "execute_result"
    }
   ],
   "source": [
    "[(NDPFr(7)[i],len(ArrangementsNoPeaks(NDPFr(7)[i]))) for i in range(len(NDPFr(7)))]"
   ]
  },
  {
   "cell_type": "code",
   "execution_count": 127,
   "metadata": {
    "collapsed": false
   },
   "outputs": [
    {
     "data": {
      "text/plain": [
       "[([1, 1, 1, 4, 4, 5, 5], 43),\n",
       " ([1, 2, 2, 4, 4, 6, 7], 60),\n",
       " ([1, 1, 1, 1, 1, 3, 3], 7),\n",
       " ([1, 1, 1, 3, 3, 3, 6], 20),\n",
       " ([1, 2, 2, 3, 3, 4, 4], 129),\n",
       " ([1, 2, 3, 4, 4, 5, 6], 96),\n",
       " ([1, 1, 2, 2, 3, 3, 3], 64),\n",
       " ([1, 2, 2, 2, 2, 5, 5], 35),\n",
       " ([1, 1, 2, 2, 3, 5, 6], 32),\n",
       " ([1, 1, 1, 1, 3, 4, 4], 20),\n",
       " ([1, 2, 2, 2, 4, 5, 6], 32),\n",
       " ([1, 1, 3, 4, 5, 6, 6], 144),\n",
       " ([1, 1, 1, 1, 1, 2, 3], 4),\n",
       " ([1, 1, 3, 3, 5, 6, 6], 96),\n",
       " ([1, 1, 2, 3, 3, 3, 3], 49),\n",
       " ([1, 2, 2, 2, 2, 2, 4], 12),\n",
       " ([1, 2, 2, 3, 3, 3, 3], 54),\n",
       " ([1, 2, 2, 2, 3, 6, 6], 80),\n",
       " ([1, 2, 2, 3, 5, 5, 7], 96),\n",
       " ([1, 2, 2, 4, 4, 5, 6], 60),\n",
       " ([1, 1, 1, 2, 2, 2, 2], 18),\n",
       " ([1, 1, 3, 3, 4, 4, 6], 56),\n",
       " ([1, 1, 1, 2, 4, 6, 6], 56),\n",
       " ([1, 1, 1, 1, 4, 4, 5], 12),\n",
       " ([1, 1, 2, 2, 3, 4, 4], 96),\n",
       " ([1, 1, 2, 3, 5, 5, 6], 80),\n",
       " ([1, 1, 3, 3, 3, 3, 5], 22),\n",
       " ([1, 2, 2, 2, 3, 3, 7], 48),\n",
       " ([1, 1, 1, 1, 1, 1, 4], 2),\n",
       " ([1, 2, 3, 3, 5, 6, 7], 64),\n",
       " ([1, 2, 2, 4, 4, 4, 4], 54),\n",
       " ([1, 1, 2, 3, 4, 4, 4], 100),\n",
       " ([1, 1, 3, 3, 4, 6, 7], 32),\n",
       " ([1, 1, 1, 3, 4, 4, 5], 32),\n",
       " ([1, 1, 1, 1, 2, 4, 6], 8),\n",
       " ([1, 1, 2, 2, 4, 4, 5], 56),\n",
       " ([1, 1, 2, 2, 2, 2, 5], 22),\n",
       " ([1, 1, 2, 3, 3, 3, 4], 52),\n",
       " ([1, 1, 1, 1, 3, 5, 7], 8),\n",
       " ([1, 1, 3, 4, 5, 5, 7], 80),\n",
       " ([1, 1, 1, 3, 3, 5, 5], 43),\n",
       " ([1, 2, 3, 3, 4, 4, 5], 112),\n",
       " ([1, 1, 1, 3, 5, 5, 5], 38),\n",
       " ([1, 1, 1, 1, 3, 6, 7], 8),\n",
       " ([1, 1, 2, 3, 3, 4, 5], 48),\n",
       " ([1, 2, 2, 3, 5, 6, 7], 48),\n",
       " ([1, 1, 3, 4, 4, 4, 6], 52),\n",
       " ([1, 2, 3, 3, 3, 6, 6], 110),\n",
       " ([1, 1, 1, 4, 4, 5, 6], 20),\n",
       " ([1, 2, 2, 3, 4, 5, 5], 168),\n",
       " ([1, 1, 2, 2, 2, 4, 6], 28),\n",
       " ([1, 2, 3, 4, 4, 5, 5], 228),\n",
       " ([1, 2, 2, 2, 2, 3, 3], 35),\n",
       " ([1, 1, 2, 2, 3, 5, 7], 32),\n",
       " ([1, 1, 1, 1, 3, 4, 7], 8),\n",
       " ([1, 2, 2, 2, 4, 5, 7], 32),\n",
       " ([1, 1, 3, 4, 5, 6, 7], 32),\n",
       " ([1, 1, 1, 1, 1, 2, 2], 7),\n",
       " ([1, 1, 2, 2, 3, 6, 7], 32),\n",
       " ([1, 2, 3, 3, 5, 5, 7], 112),\n",
       " ([1, 1, 1, 1, 2, 3, 5], 8),\n",
       " ([1, 2, 2, 3, 3, 3, 4], 60),\n",
       " ([1, 1, 3, 3, 4, 5, 7], 32),\n",
       " ([1, 2, 2, 4, 4, 5, 7], 60),\n",
       " ([1, 1, 1, 2, 2, 2, 5], 20),\n",
       " ([1, 1, 3, 3, 4, 4, 7], 56),\n",
       " ([1, 2, 2, 2, 3, 5, 5], 80),\n",
       " ([1, 1, 1, 1, 2, 6, 6], 20),\n",
       " ([1, 2, 2, 3, 4, 6, 6], 168),\n",
       " ([1, 2, 2, 2, 2, 2, 3], 12),\n",
       " ([1, 1, 2, 2, 3, 4, 7], 32),\n",
       " ([1, 2, 2, 2, 4, 4, 7], 48),\n",
       " ([1, 1, 1, 3, 4, 6, 7], 16),\n",
       " ([1, 1, 3, 3, 3, 3, 6], 22),\n",
       " ([1, 2, 2, 2, 3, 3, 6], 48),\n",
       " ([1, 1, 2, 2, 2, 3, 5], 28),\n",
       " ([1, 1, 1, 1, 1, 1, 5], 2),\n",
       " ([1, 1, 3, 4, 4, 5, 5], 114),\n",
       " ([1, 2, 3, 3, 3, 4, 4], 110),\n",
       " ([1, 2, 2, 4, 4, 4, 7], 60),\n",
       " ([1, 1, 1, 2, 2, 5, 5], 43),\n",
       " ([1, 1, 3, 4, 4, 4, 4], 49),\n",
       " ([1, 1, 1, 2, 4, 5, 5], 56),\n",
       " ([1, 1, 2, 2, 2, 6, 6], 55),\n",
       " ([1, 1, 1, 3, 4, 4, 6], 32),\n",
       " ([1, 1, 1, 1, 2, 4, 7], 8),\n",
       " ([1, 2, 2, 2, 4, 6, 7], 32),\n",
       " ([1, 1, 2, 3, 3, 3, 7], 52),\n",
       " ([1, 1, 1, 1, 5, 5, 5], 13),\n",
       " ([1, 1, 1, 3, 3, 5, 6], 20),\n",
       " ([1, 2, 3, 3, 4, 4, 4], 128),\n",
       " ([1, 2, 2, 2, 5, 5, 5], 52),\n",
       " ([1, 1, 1, 1, 3, 6, 6], 20),\n",
       " ([1, 1, 2, 3, 3, 4, 6], 48),\n",
       " ([1, 2, 2, 4, 5, 6, 6], 168),\n",
       " ([1, 2, 2, 3, 5, 6, 6], 168),\n",
       " ([1, 1, 1, 1, 2, 2, 6], 12),\n",
       " ([1, 2, 3, 3, 3, 3, 3], 32),\n",
       " ([1, 1, 1, 3, 4, 6, 6], 56),\n",
       " ([1, 1, 1, 4, 4, 5, 7], 20),\n",
       " ([1, 1, 2, 2, 2, 4, 7], 28),\n",
       " ([1, 1, 1, 1, 2, 5, 7], 8),\n",
       " ([1, 2, 2, 3, 4, 4, 7], 96),\n",
       " ([1, 1, 3, 3, 3, 4, 5], 28),\n",
       " ([1, 2, 2, 2, 2, 3, 4], 20),\n",
       " ([1, 2, 2, 2, 3, 5, 6], 32),\n",
       " ([1, 1, 1, 1, 3, 4, 6], 8),\n",
       " ([1, 1, 2, 2, 5, 5, 5], 64),\n",
       " ([1, 1, 1, 1, 1, 2, 5], 4),\n",
       " ([1, 1, 2, 2, 3, 6, 6], 96),\n",
       " ([1, 2, 2, 2, 4, 4, 4], 52),\n",
       " ([1, 2, 3, 3, 5, 5, 6], 112),\n",
       " ([1, 1, 2, 4, 4, 4, 4], 49),\n",
       " ([1, 1, 1, 1, 2, 3, 4], 8),\n",
       " ([1, 2, 2, 2, 5, 6, 6], 80),\n",
       " ([1, 2, 2, 3, 3, 3, 5], 60),\n",
       " ([1, 1, 3, 3, 4, 5, 6], 32),\n",
       " ([1, 1, 1, 4, 4, 4, 7], 20),\n",
       " ([1, 1, 1, 2, 2, 2, 4], 20),\n",
       " ([1, 1, 3, 3, 4, 4, 4], 64),\n",
       " ([1, 1, 2, 2, 2, 5, 7], 28),\n",
       " ([1, 1, 1, 1, 2, 6, 7], 8),\n",
       " ([1, 1, 1, 2, 2, 3, 6], 20),\n",
       " ([1, 2, 2, 3, 4, 6, 7], 48),\n",
       " ([1, 1, 1, 2, 5, 5, 5], 38),\n",
       " ([1, 2, 2, 2, 2, 2, 2], 7),\n",
       " ([1, 1, 2, 2, 3, 4, 6], 32),\n",
       " ([1, 2, 2, 2, 4, 4, 6], 48),\n",
       " ([1, 1, 2, 2, 5, 5, 6], 56),\n",
       " ([1, 1, 1, 1, 1, 5, 5], 7),\n",
       " ([1, 1, 2, 3, 3, 6, 6], 114),\n",
       " ([1, 1, 3, 3, 3, 3, 7], 22),\n",
       " ([1, 2, 2, 4, 5, 5, 7], 96),\n",
       " ([1, 1, 2, 2, 2, 3, 4], 28),\n",
       " ([1, 1, 1, 1, 1, 1, 6], 2),\n",
       " ([1, 2, 3, 3, 3, 4, 5], 56),\n",
       " ([1, 1, 1, 4, 4, 6, 7], 20),\n",
       " ([1, 2, 2, 4, 4, 4, 6], 60),\n",
       " ([1, 1, 1, 2, 2, 5, 6], 20),\n",
       " ([1, 1, 2, 2, 2, 6, 7], 28),\n",
       " ([1, 1, 1, 3, 4, 4, 7], 32),\n",
       " ([1, 1, 1, 4, 5, 5, 5], 38),\n",
       " ([1, 2, 2, 2, 4, 6, 6], 80),\n",
       " ([1, 1, 3, 3, 3, 5, 6], 28),\n",
       " ([1, 1, 3, 4, 5, 5, 6], 80),\n",
       " ([1, 1, 1, 3, 3, 3, 5], 20),\n",
       " ([1, 1, 1, 1, 3, 5, 5], 20),\n",
       " ([1, 1, 1, 2, 5, 6, 6], 56),\n",
       " ([1, 1, 1, 1, 5, 5, 6], 12),\n",
       " ([1, 1, 1, 3, 3, 5, 7], 20),\n",
       " ([1, 1, 2, 3, 3, 4, 7], 48),\n",
       " ([1, 1, 2, 3, 4, 4, 5], 80),\n",
       " ([1, 2, 2, 4, 5, 6, 7], 48),\n",
       " ([1, 1, 1, 1, 2, 2, 7], 12),\n",
       " ([1, 1, 2, 3, 4, 5, 5], 144),\n",
       " ([1, 2, 2, 3, 4, 5, 7], 48),\n",
       " ([1, 1, 1, 3, 4, 5, 7], 16),\n",
       " ([1, 1, 1, 1, 2, 5, 6], 8),\n",
       " ([1, 1, 3, 3, 3, 4, 4], 55),\n",
       " ([1, 2, 2, 2, 2, 3, 5], 20),\n",
       " ([1, 1, 1, 4, 5, 6, 6], 56),\n",
       " ([1, 1, 2, 2, 3, 5, 5], 96),\n",
       " ([1, 1, 3, 4, 5, 5, 5], 100),\n",
       " ([1, 1, 1, 3, 3, 4, 7], 20),\n",
       " ([1, 1, 1, 1, 1, 2, 4], 4),\n",
       " ([1, 1, 2, 3, 3, 5, 7], 48),\n",
       " ([1, 1, 1, 1, 1, 3, 6], 4),\n",
       " ([1, 1, 2, 4, 4, 4, 5], 52),\n",
       " ([1, 1, 1, 1, 2, 3, 7], 8),\n",
       " ([1, 2, 2, 2, 5, 6, 7], 32),\n",
       " ([1, 2, 2, 3, 3, 3, 6], 60),\n",
       " ([1, 2, 2, 4, 4, 5, 5], 129),\n",
       " ([1, 1, 2, 4, 5, 5, 6], 80),\n",
       " ([1, 1, 1, 4, 4, 4, 6], 20),\n",
       " ([1, 1, 1, 2, 2, 2, 7], 20),\n",
       " ([1, 1, 3, 3, 4, 4, 5], 56),\n",
       " ([1, 1, 2, 2, 2, 5, 6], 28),\n",
       " ([1, 2, 2, 2, 3, 3, 3], 52),\n",
       " ([1, 1, 1, 2, 2, 3, 7], 20),\n",
       " ([1, 1, 1, 3, 3, 6, 7], 20),\n",
       " ([1, 2, 2, 2, 4, 4, 5], 48),\n",
       " ([1, 1, 1, 1, 2, 2, 2], 13),\n",
       " ([1, 1, 1, 1, 1, 5, 6], 4),\n",
       " ([1, 1, 2, 3, 3, 6, 7], 48),\n",
       " ([1, 2, 3, 4, 5, 5, 7], 160),\n",
       " ([1, 2, 2, 4, 5, 5, 6], 96),\n",
       " ([1, 1, 2, 2, 2, 3, 7], 28),\n",
       " ([1, 1, 1, 1, 1, 1, 7], 2),\n",
       " ([1, 2, 3, 3, 3, 4, 6], 56),\n",
       " ([1, 1, 1, 4, 4, 6, 6], 43),\n",
       " ([1, 1, 1, 2, 2, 5, 7], 20),\n",
       " ([1, 1, 3, 3, 3, 5, 7], 28),\n",
       " ([1, 1, 1, 2, 4, 4, 6], 32),\n",
       " ([1, 1, 1, 1, 3, 3, 3], 13),\n",
       " ([1, 1, 3, 3, 3, 6, 7], 28),\n",
       " ([1, 1, 1, 2, 5, 6, 7], 16),\n",
       " ([1, 1, 1, 1, 5, 5, 7], 12),\n",
       " ([1, 1, 3, 4, 4, 6, 6], 114),\n",
       " ([1, 2, 3, 4, 5, 6, 7], 64),\n",
       " ([1, 1, 1, 1, 2, 2, 4], 12),\n",
       " ([1, 1, 1, 2, 3, 3, 5], 32),\n",
       " ([1, 2, 3, 4, 4, 4, 4], 98),\n",
       " ([1, 1, 2, 3, 4, 5, 6], 32),\n",
       " ([1, 1, 1, 2, 2, 4, 7], 20),\n",
       " ([1, 2, 2, 3, 4, 5, 6], 48),\n",
       " ([1, 1, 1, 3, 4, 5, 6], 16),\n",
       " ([1, 1, 1, 1, 2, 5, 5], 20),\n",
       " ([1, 1, 3, 3, 3, 4, 7], 28),\n",
       " ([1, 2, 2, 2, 2, 3, 6], 20),\n",
       " ([1, 1, 1, 4, 5, 6, 7], 16),\n",
       " ([1, 2, 3, 3, 3, 3, 5], 44),\n",
       " ([1, 1, 2, 2, 5, 5, 7], 56),\n",
       " ([1, 1, 1, 3, 3, 4, 6], 20),\n",
       " ([1, 1, 1, 1, 1, 2, 7], 4),\n",
       " ([1, 1, 2, 2, 2, 2, 7], 22),\n",
       " ([1, 1, 2, 3, 3, 5, 6], 48),\n",
       " ([1, 2, 2, 2, 3, 4, 4], 80),\n",
       " ([1, 1, 1, 1, 1, 3, 7], 4),\n",
       " ([1, 1, 2, 4, 4, 4, 6], 52),\n",
       " ([1, 1, 1, 1, 2, 3, 6], 8),\n",
       " ([1, 2, 2, 3, 4, 4, 6], 96),\n",
       " ([1, 1, 1, 2, 2, 6, 7], 20),\n",
       " ([1, 2, 2, 3, 3, 3, 7], 60),\n",
       " ([1, 2, 2, 2, 3, 5, 7], 32),\n",
       " ([1, 1, 2, 4, 5, 5, 7], 80),\n",
       " ([1, 1, 1, 4, 4, 4, 5], 20),\n",
       " ([1, 1, 1, 2, 2, 2, 6], 20),\n",
       " ([1, 1, 2, 2, 2, 5, 5], 55),\n",
       " ([1, 1, 1, 2, 3, 5, 5], 56),\n",
       " ([1, 1, 1, 2, 2, 3, 4], 20),\n",
       " ([1, 1, 2, 4, 4, 5, 5], 114),\n",
       " ([1, 1, 1, 1, 5, 6, 7], 8),\n",
       " ([1, 1, 1, 3, 3, 6, 6], 43),\n",
       " ([1, 1, 2, 2, 2, 2, 4], 22),\n",
       " ([1, 2, 2, 3, 3, 5, 6], 60),\n",
       " ([1, 1, 1, 1, 1, 5, 7], 4),\n",
       " ([1, 1, 2, 4, 5, 6, 7], 32),\n",
       " ([1, 1, 1, 1, 4, 5, 5], 20),\n",
       " ([1, 2, 2, 4, 5, 5, 5], 114),\n",
       " ([1, 1, 2, 2, 2, 3, 6], 28),\n",
       " ([1, 1, 1, 1, 1, 3, 5], 4),\n",
       " ([1, 2, 3, 3, 3, 4, 7], 56),\n",
       " ([1, 2, 2, 2, 2, 4, 5], 20),\n",
       " ([1, 2, 3, 3, 4, 5, 5], 192),\n",
       " ([1, 1, 1, 4, 5, 5, 7], 32),\n",
       " ([1, 1, 2, 2, 5, 6, 7], 32),\n",
       " ([1, 1, 3, 3, 5, 5, 5], 64),\n",
       " ([1, 1, 1, 2, 3, 6, 6], 56),\n",
       " ([1, 1, 1, 1, 3, 3, 4], 12),\n",
       " ([1, 1, 3, 3, 3, 6, 6], 55),\n",
       " ([1, 1, 1, 1, 1, 4, 7], 4),\n",
       " ([1, 2, 2, 2, 5, 5, 6], 48),\n",
       " ([1, 1, 2, 2, 4, 5, 5], 96),\n",
       " ([1, 1, 1, 2, 5, 5, 6], 32),\n",
       " ([1, 1, 2, 4, 4, 6, 6], 114),\n",
       " ([1, 1, 1, 1, 2, 2, 5], 12),\n",
       " ([1, 2, 3, 3, 3, 5, 7], 56),\n",
       " ([1, 1, 1, 1, 4, 6, 6], 20),\n",
       " ([1, 2, 3, 4, 4, 4, 5], 104),\n",
       " ([1, 1, 2, 3, 4, 5, 7], 32),\n",
       " ([1, 1, 1, 3, 3, 3, 4], 20),\n",
       " ([1, 1, 1, 2, 2, 4, 6], 20),\n",
       " ([1, 1, 1, 3, 4, 5, 5], 56),\n",
       " ([1, 1, 1, 2, 3, 4, 6], 16),\n",
       " ([1, 1, 2, 3, 4, 4, 6], 80),\n",
       " ([1, 1, 3, 3, 3, 4, 6], 28),\n",
       " ([1, 1, 1, 1, 1, 6, 7], 4),\n",
       " ([1, 2, 2, 2, 2, 3, 7], 20),\n",
       " ([1, 1, 2, 2, 3, 3, 4], 56),\n",
       " ([1, 2, 3, 3, 3, 3, 4], 44),\n",
       " ([1, 1, 1, 3, 3, 4, 5], 20),\n",
       " ([1, 1, 1, 1, 1, 2, 6], 4),\n",
       " ([1, 1, 1, 2, 3, 3, 7], 32),\n",
       " ([1, 1, 2, 3, 3, 5, 5], 114),\n",
       " ([1, 1, 2, 2, 2, 2, 6], 22),\n",
       " ([1, 2, 2, 2, 3, 4, 5], 32),\n",
       " ([1, 1, 1, 1, 1, 3, 4], 4),\n",
       " ([1, 1, 2, 4, 4, 4, 7], 52),\n",
       " ([1, 2, 3, 3, 3, 6, 7], 56),\n",
       " ([1, 1, 2, 2, 4, 6, 6], 96),\n",
       " ([1, 1, 1, 2, 2, 6, 6], 43),\n",
       " ([1, 2, 2, 2, 2, 5, 6], 20),\n",
       " ([1, 1, 1, 4, 4, 4, 4], 18),\n",
       " ([1, 1, 2, 4, 5, 6, 6], 144),\n",
       " ([1, 1, 1, 2, 2, 3, 5], 20),\n",
       " ([1, 1, 1, 1, 5, 6, 6], 20),\n",
       " ([1, 2, 2, 2, 2, 2, 7], 12),\n",
       " ([1, 2, 2, 3, 3, 5, 7], 60),\n",
       " ([1, 2, 2, 3, 3, 6, 7], 60),\n",
       " ([1, 1, 2, 4, 4, 5, 7], 48),\n",
       " ([1, 1, 2, 3, 4, 6, 7], 32),\n",
       " ([1, 1, 1, 1, 4, 4, 6], 12),\n",
       " ([1, 2, 2, 2, 2, 4, 4], 35),\n",
       " ([1, 1, 2, 3, 5, 5, 5], 100),\n",
       " ([1, 2, 3, 3, 4, 5, 6], 64),\n",
       " ([1, 1, 1, 4, 5, 5, 6], 32),\n",
       " ([1, 2, 3, 4, 5, 5, 6], 160),\n",
       " ([1, 1, 2, 2, 5, 6, 6], 96),\n",
       " ([1, 1, 1, 1, 1, 1, 1], 1),\n",
       " ([1, 1, 3, 3, 5, 5, 6], 56),\n",
       " ([1, 1, 1, 2, 3, 6, 7], 16),\n",
       " ([1, 1, 1, 1, 2, 2, 3], 12),\n",
       " ([1, 1, 1, 1, 3, 3, 5], 12),\n",
       " ([1, 2, 2, 3, 3, 4, 7], 60),\n",
       " ([1, 1, 1, 2, 4, 4, 5], 32),\n",
       " ([1, 1, 1, 1, 1, 4, 6], 4),\n",
       " ([1, 2, 2, 3, 4, 4, 5], 96),\n",
       " ([1, 2, 2, 3, 3, 4, 5], 60),\n",
       " ([1, 1, 2, 4, 4, 6, 7], 48),\n",
       " ([1, 1, 2, 2, 4, 4, 6], 56),\n",
       " ([1, 2, 3, 3, 3, 5, 6], 56),\n",
       " ([1, 1, 1, 1, 4, 6, 7], 8),\n",
       " ([1, 2, 3, 3, 5, 6, 6], 192),\n",
       " ([1, 2, 3, 4, 4, 4, 6], 104),\n",
       " ([1, 1, 1, 2, 2, 4, 5], 20),\n",
       " ([1, 2, 2, 4, 4, 6, 6], 129),\n",
       " ([1, 1, 1, 3, 5, 5, 6], 32),\n",
       " ([1, 1, 1, 2, 3, 4, 7], 16),\n",
       " ([1, 1, 2, 3, 5, 6, 6], 144),\n",
       " ([1, 1, 1, 1, 1, 6, 6], 7),\n",
       " ([1, 1, 3, 4, 4, 4, 5], 52),\n",
       " ([1, 1, 2, 2, 3, 3, 5], 56),\n",
       " ([1, 2, 3, 3, 3, 3, 7], 44),\n",
       " ([1, 1, 1, 3, 3, 4, 4], 43),\n",
       " ([1, 1, 2, 3, 3, 3, 5], 52),\n",
       " ([1, 1, 1, 2, 3, 3, 6], 32),\n",
       " ([1, 2, 2, 2, 3, 4, 6], 32),\n",
       " ([1, 2, 3, 3, 4, 6, 6], 192),\n",
       " ([1, 1, 2, 2, 4, 6, 7], 32),\n",
       " ([1, 1, 1, 2, 4, 5, 7], 16),\n",
       " ([1, 2, 2, 2, 2, 5, 7], 20),\n",
       " ([1, 1, 2, 4, 5, 5, 5], 100),\n",
       " ([1, 2, 2, 2, 2, 6, 7], 20),\n",
       " ([1, 1, 1, 2, 3, 5, 7], 16),\n",
       " ([1, 1, 3, 3, 3, 5, 5], 55),\n",
       " ([1, 1, 2, 2, 2, 2, 2], 16),\n",
       " ([1, 2, 2, 2, 2, 2, 6], 12),\n",
       " ([1, 2, 2, 3, 5, 5, 5], 114),\n",
       " ([1, 2, 2, 3, 3, 6, 6], 129),\n",
       " ([1, 1, 1, 1, 4, 5, 7], 8),\n",
       " ([1, 1, 1, 3, 3, 3, 3], 18),\n",
       " ([1, 1, 2, 3, 4, 6, 6], 144),\n",
       " ([1, 1, 1, 1, 4, 4, 7], 12),\n",
       " ([1, 1, 2, 4, 4, 5, 6], 48),\n",
       " ([1, 2, 3, 4, 4, 6, 6], 228),\n",
       " ([1, 2, 2, 2, 2, 4, 7], 20),\n",
       " ([1, 2, 3, 3, 4, 5, 7], 64),\n",
       " ([1, 2, 2, 2, 5, 5, 7], 48),\n",
       " ([1, 1, 3, 3, 3, 3, 3], 16),\n",
       " ([1, 2, 2, 2, 3, 3, 5], 48),\n",
       " ([1, 1, 1, 1, 1, 1, 2], 2),\n",
       " ([1, 1, 3, 3, 5, 5, 7], 56),\n",
       " ([1, 1, 3, 4, 4, 5, 6], 48),\n",
       " ([1, 1, 1, 1, 3, 3, 6], 12),\n",
       " ([1, 2, 2, 3, 3, 4, 6], 60),\n",
       " ([1, 1, 1, 2, 5, 5, 7], 32),\n",
       " ([1, 1, 1, 2, 4, 4, 4], 38),\n",
       " ([1, 1, 1, 1, 1, 4, 5], 4),\n",
       " ([1, 1, 2, 2, 4, 5, 7], 32),\n",
       " ([1, 1, 1, 2, 4, 5, 6], 16),\n",
       " ([1, 1, 1, 1, 2, 4, 4], 20),\n",
       " ([1, 1, 2, 2, 4, 4, 7], 56),\n",
       " ([1, 2, 3, 3, 3, 5, 5], 110),\n",
       " ([1, 2, 3, 4, 4, 4, 7], 104),\n",
       " ([1, 1, 1, 2, 2, 4, 4], 43),\n",
       " ([1, 2, 3, 3, 4, 4, 7], 112),\n",
       " ([1, 1, 1, 3, 5, 5, 7], 32),\n",
       " ([1, 1, 1, 2, 3, 4, 4], 56),\n",
       " ([1, 1, 1, 2, 3, 3, 3], 38),\n",
       " ([1, 1, 2, 3, 5, 6, 7], 32),\n",
       " ([1, 2, 3, 4, 5, 6, 6], 288),\n",
       " ([1, 1, 2, 2, 3, 3, 6], 56),\n",
       " ([1, 2, 3, 3, 3, 3, 6], 44),\n",
       " ([1, 2, 2, 4, 4, 4, 5], 60),\n",
       " ([1, 1, 1, 3, 3, 3, 7], 20),\n",
       " ([1, 2, 2, 2, 3, 4, 7], 32),\n",
       " ([1, 1, 2, 2, 2, 4, 4], 55),\n",
       " ([1, 1, 1, 1, 2, 3, 3], 20),\n",
       " ([1, 1, 2, 3, 4, 4, 7], 80),\n",
       " ([1, 2, 3, 4, 4, 5, 7], 96),\n",
       " ([1, 2, 3, 3, 4, 6, 7], 64),\n",
       " ([1, 1, 1, 1, 3, 4, 5], 8),\n",
       " ([1, 2, 2, 2, 4, 5, 5], 80),\n",
       " ([1, 2, 3, 4, 5, 5, 5], 200),\n",
       " ([1, 2, 2, 2, 2, 6, 6], 35),\n",
       " ([1, 1, 3, 3, 5, 6, 7], 32),\n",
       " ([1, 1, 1, 2, 3, 5, 6], 16),\n",
       " ([1, 1, 2, 3, 3, 4, 4], 114),\n",
       " ([1, 1, 1, 2, 2, 3, 3], 43),\n",
       " ([1, 2, 3, 3, 5, 5, 5], 128),\n",
       " ([1, 1, 2, 2, 2, 2, 3], 22),\n",
       " ([1, 2, 2, 2, 2, 2, 5], 12),\n",
       " ([1, 2, 2, 3, 3, 5, 5], 129),\n",
       " ([1, 1, 3, 3, 4, 5, 5], 96),\n",
       " ([1, 2, 2, 3, 5, 5, 6], 96),\n",
       " ([1, 1, 1, 3, 5, 6, 7], 16),\n",
       " ([1, 1, 1, 2, 2, 2, 3], 20),\n",
       " ([1, 1, 1, 1, 4, 5, 6], 8),\n",
       " ([1, 1, 1, 2, 4, 6, 7], 16),\n",
       " ([1, 1, 2, 2, 2, 3, 3], 55),\n",
       " ([1, 1, 1, 1, 4, 4, 4], 13),\n",
       " ([1, 2, 3, 4, 4, 6, 7], 96),\n",
       " ([1, 2, 2, 2, 2, 4, 6], 20),\n",
       " ([1, 1, 2, 2, 3, 4, 5], 32),\n",
       " ([1, 1, 2, 3, 5, 5, 7], 80),\n",
       " ([1, 1, 1, 3, 5, 6, 6], 56),\n",
       " ([1, 1, 3, 3, 3, 3, 4], 22),\n",
       " ([1, 2, 2, 2, 3, 3, 4], 48),\n",
       " ([1, 1, 1, 1, 1, 1, 3], 2),\n",
       " ([1, 1, 3, 4, 4, 5, 7], 48),\n",
       " ([1, 1, 2, 3, 3, 3, 6], 52),\n",
       " ([1, 1, 1, 1, 3, 3, 7], 12),\n",
       " ([1, 1, 1, 2, 4, 4, 7], 32),\n",
       " ([1, 1, 1, 1, 1, 4, 4], 7),\n",
       " ([1, 1, 3, 4, 4, 6, 7], 48),\n",
       " ([1, 1, 2, 2, 4, 5, 6], 32),\n",
       " ([1, 2, 2, 2, 3, 6, 7], 32),\n",
       " ([1, 1, 3, 3, 4, 6, 6], 96),\n",
       " ([1, 1, 1, 3, 4, 4, 4], 38),\n",
       " ([1, 1, 1, 1, 2, 4, 5], 8),\n",
       " ([1, 1, 2, 2, 4, 4, 4], 64),\n",
       " ([1, 1, 2, 2, 2, 4, 5], 28),\n",
       " ([1, 1, 1, 1, 3, 5, 6], 8),\n",
       " ([1, 2, 3, 3, 4, 4, 6], 112),\n",
       " ([1, 1, 1, 2, 3, 4, 5], 16),\n",
       " ([1, 2, 2, 3, 4, 4, 4], 114),\n",
       " ([1, 1, 3, 4, 4, 4, 7], 52),\n",
       " ([1, 1, 2, 2, 3, 3, 7], 56),\n",
       " ([1, 1, 1, 2, 3, 3, 4], 32)]"
      ]
     },
     "execution_count": 127,
     "metadata": {
     },
     "output_type": "execute_result"
    }
   ],
   "source": [
    "[([1, 1, 1, 4, 4, 5, 5], 43),\n",
    " ([1, 2, 2, 4, 4, 6, 7], 60),\n",
    " ([1, 1, 1, 1, 1, 3, 3], 7),\n",
    " ([1, 1, 1, 3, 3, 3, 6], 20),\n",
    " ([1, 2, 2, 3, 3, 4, 4], 129),\n",
    " ([1, 2, 3, 4, 4, 5, 6], 96),\n",
    " ([1, 1, 2, 2, 3, 3, 3], 64),\n",
    " ([1, 2, 2, 2, 2, 5, 5], 35),\n",
    " ([1, 1, 2, 2, 3, 5, 6], 32),\n",
    " ([1, 1, 1, 1, 3, 4, 4], 20),\n",
    " ([1, 2, 2, 2, 4, 5, 6], 32),\n",
    " ([1, 1, 3, 4, 5, 6, 6], 144),\n",
    " ([1, 1, 1, 1, 1, 2, 3], 4),\n",
    " ([1, 1, 3, 3, 5, 6, 6], 96),\n",
    " ([1, 1, 2, 3, 3, 3, 3], 49),\n",
    " ([1, 2, 2, 2, 2, 2, 4], 12),\n",
    " ([1, 2, 2, 3, 3, 3, 3], 54),\n",
    " ([1, 2, 2, 2, 3, 6, 6], 80),\n",
    " ([1, 2, 2, 3, 5, 5, 7], 96),\n",
    " ([1, 2, 2, 4, 4, 5, 6], 60),\n",
    " ([1, 1, 1, 2, 2, 2, 2], 18),\n",
    " ([1, 1, 3, 3, 4, 4, 6], 56),\n",
    " ([1, 1, 1, 2, 4, 6, 6], 56),\n",
    " ([1, 1, 1, 1, 4, 4, 5], 12),\n",
    " ([1, 1, 2, 2, 3, 4, 4], 96),\n",
    " ([1, 1, 2, 3, 5, 5, 6], 80),\n",
    " ([1, 1, 3, 3, 3, 3, 5], 22),\n",
    " ([1, 2, 2, 2, 3, 3, 7], 48),\n",
    " ([1, 1, 1, 1, 1, 1, 4], 2),\n",
    " ([1, 2, 3, 3, 5, 6, 7], 64),\n",
    " ([1, 2, 2, 4, 4, 4, 4], 54),\n",
    " ([1, 1, 2, 3, 4, 4, 4], 100),\n",
    " ([1, 1, 3, 3, 4, 6, 7], 32),\n",
    " ([1, 1, 1, 3, 4, 4, 5], 32),\n",
    " ([1, 1, 1, 1, 2, 4, 6], 8),\n",
    " ([1, 1, 2, 2, 4, 4, 5], 56),\n",
    " ([1, 1, 2, 2, 2, 2, 5], 22),\n",
    " ([1, 1, 2, 3, 3, 3, 4], 52),\n",
    " ([1, 1, 1, 1, 3, 5, 7], 8),\n",
    " ([1, 1, 3, 4, 5, 5, 7], 80),\n",
    " ([1, 1, 1, 3, 3, 5, 5], 43),\n",
    " ([1, 2, 3, 3, 4, 4, 5], 112),\n",
    " ([1, 1, 1, 3, 5, 5, 5], 38),\n",
    " ([1, 1, 1, 1, 3, 6, 7], 8),\n",
    " ([1, 1, 2, 3, 3, 4, 5], 48),\n",
    " ([1, 2, 2, 3, 5, 6, 7], 48),\n",
    " ([1, 1, 3, 4, 4, 4, 6], 52),\n",
    " ([1, 2, 3, 3, 3, 6, 6], 110),\n",
    " ([1, 1, 1, 4, 4, 5, 6], 20),\n",
    " ([1, 2, 2, 3, 4, 5, 5], 168),\n",
    " ([1, 1, 2, 2, 2, 4, 6], 28),\n",
    " ([1, 2, 3, 4, 4, 5, 5], 228),\n",
    " ([1, 2, 2, 2, 2, 3, 3], 35),\n",
    " ([1, 1, 2, 2, 3, 5, 7], 32),\n",
    " ([1, 1, 1, 1, 3, 4, 7], 8),\n",
    " ([1, 2, 2, 2, 4, 5, 7], 32),\n",
    " ([1, 1, 3, 4, 5, 6, 7], 32),\n",
    " ([1, 1, 1, 1, 1, 2, 2], 7),\n",
    " ([1, 1, 2, 2, 3, 6, 7], 32),\n",
    " ([1, 2, 3, 3, 5, 5, 7], 112),\n",
    " ([1, 1, 1, 1, 2, 3, 5], 8),\n",
    " ([1, 2, 2, 3, 3, 3, 4], 60),\n",
    " ([1, 1, 3, 3, 4, 5, 7], 32),\n",
    " ([1, 2, 2, 4, 4, 5, 7], 60),\n",
    " ([1, 1, 1, 2, 2, 2, 5], 20),\n",
    " ([1, 1, 3, 3, 4, 4, 7], 56),\n",
    " ([1, 2, 2, 2, 3, 5, 5], 80),\n",
    " ([1, 1, 1, 1, 2, 6, 6], 20),\n",
    " ([1, 2, 2, 3, 4, 6, 6], 168),\n",
    " ([1, 2, 2, 2, 2, 2, 3], 12),\n",
    " ([1, 1, 2, 2, 3, 4, 7], 32),\n",
    " ([1, 2, 2, 2, 4, 4, 7], 48),\n",
    " ([1, 1, 1, 3, 4, 6, 7], 16),\n",
    " ([1, 1, 3, 3, 3, 3, 6], 22),\n",
    " ([1, 2, 2, 2, 3, 3, 6], 48),\n",
    " ([1, 1, 2, 2, 2, 3, 5], 28),\n",
    " ([1, 1, 1, 1, 1, 1, 5], 2),\n",
    " ([1, 1, 3, 4, 4, 5, 5], 114),\n",
    " ([1, 2, 3, 3, 3, 4, 4], 110),\n",
    " ([1, 2, 2, 4, 4, 4, 7], 60),\n",
    " ([1, 1, 1, 2, 2, 5, 5], 43),\n",
    " ([1, 1, 3, 4, 4, 4, 4], 49),\n",
    " ([1, 1, 1, 2, 4, 5, 5], 56),\n",
    " ([1, 1, 2, 2, 2, 6, 6], 55),\n",
    " ([1, 1, 1, 3, 4, 4, 6], 32),\n",
    " ([1, 1, 1, 1, 2, 4, 7], 8),\n",
    " ([1, 2, 2, 2, 4, 6, 7], 32),\n",
    " ([1, 1, 2, 3, 3, 3, 7], 52),\n",
    " ([1, 1, 1, 1, 5, 5, 5], 13),\n",
    " ([1, 1, 1, 3, 3, 5, 6], 20),\n",
    " ([1, 2, 3, 3, 4, 4, 4], 128),\n",
    " ([1, 2, 2, 2, 5, 5, 5], 52),\n",
    " ([1, 1, 1, 1, 3, 6, 6], 20),\n",
    " ([1, 1, 2, 3, 3, 4, 6], 48),\n",
    " ([1, 2, 2, 4, 5, 6, 6], 168),\n",
    " ([1, 2, 2, 3, 5, 6, 6], 168),\n",
    " ([1, 1, 1, 1, 2, 2, 6], 12),\n",
    " ([1, 2, 3, 3, 3, 3, 3], 32),\n",
    " ([1, 1, 1, 3, 4, 6, 6], 56),\n",
    " ([1, 1, 1, 4, 4, 5, 7], 20),\n",
    " ([1, 1, 2, 2, 2, 4, 7], 28),\n",
    " ([1, 1, 1, 1, 2, 5, 7], 8),\n",
    " ([1, 2, 2, 3, 4, 4, 7], 96),\n",
    " ([1, 1, 3, 3, 3, 4, 5], 28),\n",
    " ([1, 2, 2, 2, 2, 3, 4], 20),\n",
    " ([1, 2, 2, 2, 3, 5, 6], 32),\n",
    " ([1, 1, 1, 1, 3, 4, 6], 8),\n",
    " ([1, 1, 2, 2, 5, 5, 5], 64),\n",
    " ([1, 1, 1, 1, 1, 2, 5], 4),\n",
    " ([1, 1, 2, 2, 3, 6, 6], 96),\n",
    " ([1, 2, 2, 2, 4, 4, 4], 52),\n",
    " ([1, 2, 3, 3, 5, 5, 6], 112),\n",
    " ([1, 1, 2, 4, 4, 4, 4], 49),\n",
    " ([1, 1, 1, 1, 2, 3, 4], 8),\n",
    " ([1, 2, 2, 2, 5, 6, 6], 80),\n",
    " ([1, 2, 2, 3, 3, 3, 5], 60),\n",
    " ([1, 1, 3, 3, 4, 5, 6], 32),\n",
    " ([1, 1, 1, 4, 4, 4, 7], 20),\n",
    " ([1, 1, 1, 2, 2, 2, 4], 20),\n",
    " ([1, 1, 3, 3, 4, 4, 4], 64),\n",
    " ([1, 1, 2, 2, 2, 5, 7], 28),\n",
    " ([1, 1, 1, 1, 2, 6, 7], 8),\n",
    " ([1, 1, 1, 2, 2, 3, 6], 20),\n",
    " ([1, 2, 2, 3, 4, 6, 7], 48),\n",
    " ([1, 1, 1, 2, 5, 5, 5], 38),\n",
    " ([1, 2, 2, 2, 2, 2, 2], 7),\n",
    " ([1, 1, 2, 2, 3, 4, 6], 32),\n",
    " ([1, 2, 2, 2, 4, 4, 6], 48),\n",
    " ([1, 1, 2, 2, 5, 5, 6], 56),\n",
    " ([1, 1, 1, 1, 1, 5, 5], 7),\n",
    " ([1, 1, 2, 3, 3, 6, 6], 114),\n",
    " ([1, 1, 3, 3, 3, 3, 7], 22),\n",
    " ([1, 2, 2, 4, 5, 5, 7], 96),\n",
    " ([1, 1, 2, 2, 2, 3, 4], 28),\n",
    " ([1, 1, 1, 1, 1, 1, 6], 2),\n",
    " ([1, 2, 3, 3, 3, 4, 5], 56),\n",
    " ([1, 1, 1, 4, 4, 6, 7], 20),\n",
    " ([1, 2, 2, 4, 4, 4, 6], 60),\n",
    " ([1, 1, 1, 2, 2, 5, 6], 20),\n",
    " ([1, 1, 2, 2, 2, 6, 7], 28),\n",
    " ([1, 1, 1, 3, 4, 4, 7], 32),\n",
    " ([1, 1, 1, 4, 5, 5, 5], 38),\n",
    " ([1, 2, 2, 2, 4, 6, 6], 80),\n",
    " ([1, 1, 3, 3, 3, 5, 6], 28),\n",
    " ([1, 1, 3, 4, 5, 5, 6], 80),\n",
    " ([1, 1, 1, 3, 3, 3, 5], 20),\n",
    " ([1, 1, 1, 1, 3, 5, 5], 20),\n",
    " ([1, 1, 1, 2, 5, 6, 6], 56),\n",
    " ([1, 1, 1, 1, 5, 5, 6], 12),\n",
    " ([1, 1, 1, 3, 3, 5, 7], 20),\n",
    " ([1, 1, 2, 3, 3, 4, 7], 48),\n",
    " ([1, 1, 2, 3, 4, 4, 5], 80),\n",
    " ([1, 2, 2, 4, 5, 6, 7], 48),\n",
    " ([1, 1, 1, 1, 2, 2, 7], 12),\n",
    " ([1, 1, 2, 3, 4, 5, 5], 144),\n",
    " ([1, 2, 2, 3, 4, 5, 7], 48),\n",
    " ([1, 1, 1, 3, 4, 5, 7], 16),\n",
    " ([1, 1, 1, 1, 2, 5, 6], 8),\n",
    " ([1, 1, 3, 3, 3, 4, 4], 55),\n",
    " ([1, 2, 2, 2, 2, 3, 5], 20),\n",
    " ([1, 1, 1, 4, 5, 6, 6], 56),\n",
    " ([1, 1, 2, 2, 3, 5, 5], 96),\n",
    " ([1, 1, 3, 4, 5, 5, 5], 100),\n",
    " ([1, 1, 1, 3, 3, 4, 7], 20),\n",
    " ([1, 1, 1, 1, 1, 2, 4], 4),\n",
    " ([1, 1, 2, 3, 3, 5, 7], 48),\n",
    " ([1, 1, 1, 1, 1, 3, 6], 4),\n",
    " ([1, 1, 2, 4, 4, 4, 5], 52),\n",
    " ([1, 1, 1, 1, 2, 3, 7], 8),\n",
    " ([1, 2, 2, 2, 5, 6, 7], 32),\n",
    " ([1, 2, 2, 3, 3, 3, 6], 60),\n",
    " ([1, 2, 2, 4, 4, 5, 5], 129),\n",
    " ([1, 1, 2, 4, 5, 5, 6], 80),\n",
    " ([1, 1, 1, 4, 4, 4, 6], 20),\n",
    " ([1, 1, 1, 2, 2, 2, 7], 20),\n",
    " ([1, 1, 3, 3, 4, 4, 5], 56),\n",
    " ([1, 1, 2, 2, 2, 5, 6], 28),\n",
    " ([1, 2, 2, 2, 3, 3, 3], 52),\n",
    " ([1, 1, 1, 2, 2, 3, 7], 20),\n",
    " ([1, 1, 1, 3, 3, 6, 7], 20),\n",
    " ([1, 2, 2, 2, 4, 4, 5], 48),\n",
    " ([1, 1, 1, 1, 2, 2, 2], 13),\n",
    " ([1, 1, 1, 1, 1, 5, 6], 4),\n",
    " ([1, 1, 2, 3, 3, 6, 7], 48),\n",
    " ([1, 2, 3, 4, 5, 5, 7], 160),\n",
    " ([1, 2, 2, 4, 5, 5, 6], 96),\n",
    " ([1, 1, 2, 2, 2, 3, 7], 28),\n",
    " ([1, 1, 1, 1, 1, 1, 7], 2),\n",
    " ([1, 2, 3, 3, 3, 4, 6], 56),\n",
    " ([1, 1, 1, 4, 4, 6, 6], 43),\n",
    " ([1, 1, 1, 2, 2, 5, 7], 20),\n",
    " ([1, 1, 3, 3, 3, 5, 7], 28),\n",
    " ([1, 1, 1, 2, 4, 4, 6], 32),\n",
    " ([1, 1, 1, 1, 3, 3, 3], 13),\n",
    " ([1, 1, 3, 3, 3, 6, 7], 28),\n",
    " ([1, 1, 1, 2, 5, 6, 7], 16),\n",
    " ([1, 1, 1, 1, 5, 5, 7], 12),\n",
    " ([1, 1, 3, 4, 4, 6, 6], 114),\n",
    " ([1, 2, 3, 4, 5, 6, 7], 64),\n",
    " ([1, 1, 1, 1, 2, 2, 4], 12),\n",
    " ([1, 1, 1, 2, 3, 3, 5], 32),\n",
    " ([1, 2, 3, 4, 4, 4, 4], 98),\n",
    " ([1, 1, 2, 3, 4, 5, 6], 32),\n",
    " ([1, 1, 1, 2, 2, 4, 7], 20),\n",
    " ([1, 2, 2, 3, 4, 5, 6], 48),\n",
    " ([1, 1, 1, 3, 4, 5, 6], 16),\n",
    " ([1, 1, 1, 1, 2, 5, 5], 20),\n",
    " ([1, 1, 3, 3, 3, 4, 7], 28),\n",
    " ([1, 2, 2, 2, 2, 3, 6], 20),\n",
    " ([1, 1, 1, 4, 5, 6, 7], 16),\n",
    " ([1, 2, 3, 3, 3, 3, 5], 44),\n",
    " ([1, 1, 2, 2, 5, 5, 7], 56),\n",
    " ([1, 1, 1, 3, 3, 4, 6], 20),\n",
    " ([1, 1, 1, 1, 1, 2, 7], 4),\n",
    " ([1, 1, 2, 2, 2, 2, 7], 22),\n",
    " ([1, 1, 2, 3, 3, 5, 6], 48),\n",
    " ([1, 2, 2, 2, 3, 4, 4], 80),\n",
    " ([1, 1, 1, 1, 1, 3, 7], 4),\n",
    " ([1, 1, 2, 4, 4, 4, 6], 52),\n",
    " ([1, 1, 1, 1, 2, 3, 6], 8),\n",
    " ([1, 2, 2, 3, 4, 4, 6], 96),\n",
    " ([1, 1, 1, 2, 2, 6, 7], 20),\n",
    " ([1, 2, 2, 3, 3, 3, 7], 60),\n",
    " ([1, 2, 2, 2, 3, 5, 7], 32),\n",
    " ([1, 1, 2, 4, 5, 5, 7], 80),\n",
    " ([1, 1, 1, 4, 4, 4, 5], 20),\n",
    " ([1, 1, 1, 2, 2, 2, 6], 20),\n",
    " ([1, 1, 2, 2, 2, 5, 5], 55),\n",
    " ([1, 1, 1, 2, 3, 5, 5], 56),\n",
    " ([1, 1, 1, 2, 2, 3, 4], 20),\n",
    " ([1, 1, 2, 4, 4, 5, 5], 114),\n",
    " ([1, 1, 1, 1, 5, 6, 7], 8),\n",
    " ([1, 1, 1, 3, 3, 6, 6], 43),\n",
    " ([1, 1, 2, 2, 2, 2, 4], 22),\n",
    " ([1, 2, 2, 3, 3, 5, 6], 60),\n",
    " ([1, 1, 1, 1, 1, 5, 7], 4),\n",
    " ([1, 1, 2, 4, 5, 6, 7], 32),\n",
    " ([1, 1, 1, 1, 4, 5, 5], 20),\n",
    " ([1, 2, 2, 4, 5, 5, 5], 114),\n",
    " ([1, 1, 2, 2, 2, 3, 6], 28),\n",
    " ([1, 1, 1, 1, 1, 3, 5], 4),\n",
    " ([1, 2, 3, 3, 3, 4, 7], 56),\n",
    " ([1, 2, 2, 2, 2, 4, 5], 20),\n",
    " ([1, 2, 3, 3, 4, 5, 5], 192),\n",
    " ([1, 1, 1, 4, 5, 5, 7], 32),\n",
    " ([1, 1, 2, 2, 5, 6, 7], 32),\n",
    " ([1, 1, 3, 3, 5, 5, 5], 64),\n",
    " ([1, 1, 1, 2, 3, 6, 6], 56),\n",
    " ([1, 1, 1, 1, 3, 3, 4], 12),\n",
    " ([1, 1, 3, 3, 3, 6, 6], 55),\n",
    " ([1, 1, 1, 1, 1, 4, 7], 4),\n",
    " ([1, 2, 2, 2, 5, 5, 6], 48),\n",
    " ([1, 1, 2, 2, 4, 5, 5], 96),\n",
    " ([1, 1, 1, 2, 5, 5, 6], 32),\n",
    " ([1, 1, 2, 4, 4, 6, 6], 114),\n",
    " ([1, 1, 1, 1, 2, 2, 5], 12),\n",
    " ([1, 2, 3, 3, 3, 5, 7], 56),\n",
    " ([1, 1, 1, 1, 4, 6, 6], 20),\n",
    " ([1, 2, 3, 4, 4, 4, 5], 104),\n",
    " ([1, 1, 2, 3, 4, 5, 7], 32),\n",
    " ([1, 1, 1, 3, 3, 3, 4], 20),\n",
    " ([1, 1, 1, 2, 2, 4, 6], 20),\n",
    " ([1, 1, 1, 3, 4, 5, 5], 56),\n",
    " ([1, 1, 1, 2, 3, 4, 6], 16),\n",
    " ([1, 1, 2, 3, 4, 4, 6], 80),\n",
    " ([1, 1, 3, 3, 3, 4, 6], 28),\n",
    " ([1, 1, 1, 1, 1, 6, 7], 4),\n",
    " ([1, 2, 2, 2, 2, 3, 7], 20),\n",
    " ([1, 1, 2, 2, 3, 3, 4], 56),\n",
    " ([1, 2, 3, 3, 3, 3, 4], 44),\n",
    " ([1, 1, 1, 3, 3, 4, 5], 20),\n",
    " ([1, 1, 1, 1, 1, 2, 6], 4),\n",
    " ([1, 1, 1, 2, 3, 3, 7], 32),\n",
    " ([1, 1, 2, 3, 3, 5, 5], 114),\n",
    " ([1, 1, 2, 2, 2, 2, 6], 22),\n",
    " ([1, 2, 2, 2, 3, 4, 5], 32),\n",
    " ([1, 1, 1, 1, 1, 3, 4], 4),\n",
    " ([1, 1, 2, 4, 4, 4, 7], 52),\n",
    " ([1, 2, 3, 3, 3, 6, 7], 56),\n",
    " ([1, 1, 2, 2, 4, 6, 6], 96),\n",
    " ([1, 1, 1, 2, 2, 6, 6], 43),\n",
    " ([1, 2, 2, 2, 2, 5, 6], 20),\n",
    " ([1, 1, 1, 4, 4, 4, 4], 18),\n",
    " ([1, 1, 2, 4, 5, 6, 6], 144),\n",
    " ([1, 1, 1, 2, 2, 3, 5], 20),\n",
    " ([1, 1, 1, 1, 5, 6, 6], 20),\n",
    " ([1, 2, 2, 2, 2, 2, 7], 12),\n",
    " ([1, 2, 2, 3, 3, 5, 7], 60),\n",
    " ([1, 2, 2, 3, 3, 6, 7], 60),\n",
    " ([1, 1, 2, 4, 4, 5, 7], 48),\n",
    " ([1, 1, 2, 3, 4, 6, 7], 32),\n",
    " ([1, 1, 1, 1, 4, 4, 6], 12),\n",
    " ([1, 2, 2, 2, 2, 4, 4], 35),\n",
    " ([1, 1, 2, 3, 5, 5, 5], 100),\n",
    " ([1, 2, 3, 3, 4, 5, 6], 64),\n",
    " ([1, 1, 1, 4, 5, 5, 6], 32),\n",
    " ([1, 2, 3, 4, 5, 5, 6], 160),\n",
    " ([1, 1, 2, 2, 5, 6, 6], 96),\n",
    " ([1, 1, 1, 1, 1, 1, 1], 1),\n",
    " ([1, 1, 3, 3, 5, 5, 6], 56),\n",
    " ([1, 1, 1, 2, 3, 6, 7], 16),\n",
    " ([1, 1, 1, 1, 2, 2, 3], 12),\n",
    " ([1, 1, 1, 1, 3, 3, 5], 12),\n",
    " ([1, 2, 2, 3, 3, 4, 7], 60),\n",
    " ([1, 1, 1, 2, 4, 4, 5], 32),\n",
    " ([1, 1, 1, 1, 1, 4, 6], 4),\n",
    " ([1, 2, 2, 3, 4, 4, 5], 96),\n",
    " ([1, 2, 2, 3, 3, 4, 5], 60),\n",
    " ([1, 1, 2, 4, 4, 6, 7], 48),\n",
    " ([1, 1, 2, 2, 4, 4, 6], 56),\n",
    " ([1, 2, 3, 3, 3, 5, 6], 56),\n",
    " ([1, 1, 1, 1, 4, 6, 7], 8),\n",
    " ([1, 2, 3, 3, 5, 6, 6], 192),\n",
    " ([1, 2, 3, 4, 4, 4, 6], 104),\n",
    " ([1, 1, 1, 2, 2, 4, 5], 20),\n",
    " ([1, 2, 2, 4, 4, 6, 6], 129),\n",
    " ([1, 1, 1, 3, 5, 5, 6], 32),\n",
    " ([1, 1, 1, 2, 3, 4, 7], 16),\n",
    " ([1, 1, 2, 3, 5, 6, 6], 144),\n",
    " ([1, 1, 1, 1, 1, 6, 6], 7),\n",
    " ([1, 1, 3, 4, 4, 4, 5], 52),\n",
    " ([1, 1, 2, 2, 3, 3, 5], 56),\n",
    " ([1, 2, 3, 3, 3, 3, 7], 44),\n",
    " ([1, 1, 1, 3, 3, 4, 4], 43),\n",
    " ([1, 1, 2, 3, 3, 3, 5], 52),\n",
    " ([1, 1, 1, 2, 3, 3, 6], 32),\n",
    " ([1, 2, 2, 2, 3, 4, 6], 32),\n",
    " ([1, 2, 3, 3, 4, 6, 6], 192),\n",
    " ([1, 1, 2, 2, 4, 6, 7], 32),\n",
    " ([1, 1, 1, 2, 4, 5, 7], 16),\n",
    " ([1, 2, 2, 2, 2, 5, 7], 20),\n",
    " ([1, 1, 2, 4, 5, 5, 5], 100),\n",
    " ([1, 2, 2, 2, 2, 6, 7], 20),\n",
    " ([1, 1, 1, 2, 3, 5, 7], 16),\n",
    " ([1, 1, 3, 3, 3, 5, 5], 55),\n",
    " ([1, 1, 2, 2, 2, 2, 2], 16),\n",
    " ([1, 2, 2, 2, 2, 2, 6], 12),\n",
    " ([1, 2, 2, 3, 5, 5, 5], 114),\n",
    " ([1, 2, 2, 3, 3, 6, 6], 129),\n",
    " ([1, 1, 1, 1, 4, 5, 7], 8),\n",
    " ([1, 1, 1, 3, 3, 3, 3], 18),\n",
    " ([1, 1, 2, 3, 4, 6, 6], 144),\n",
    " ([1, 1, 1, 1, 4, 4, 7], 12),\n",
    " ([1, 1, 2, 4, 4, 5, 6], 48),\n",
    " ([1, 2, 3, 4, 4, 6, 6], 228),\n",
    " ([1, 2, 2, 2, 2, 4, 7], 20),\n",
    " ([1, 2, 3, 3, 4, 5, 7], 64),\n",
    " ([1, 2, 2, 2, 5, 5, 7], 48),\n",
    " ([1, 1, 3, 3, 3, 3, 3], 16),\n",
    " ([1, 2, 2, 2, 3, 3, 5], 48),\n",
    " ([1, 1, 1, 1, 1, 1, 2], 2),\n",
    " ([1, 1, 3, 3, 5, 5, 7], 56),\n",
    " ([1, 1, 3, 4, 4, 5, 6], 48),\n",
    " ([1, 1, 1, 1, 3, 3, 6], 12),\n",
    " ([1, 2, 2, 3, 3, 4, 6], 60),\n",
    " ([1, 1, 1, 2, 5, 5, 7], 32),\n",
    " ([1, 1, 1, 2, 4, 4, 4], 38),\n",
    " ([1, 1, 1, 1, 1, 4, 5], 4),\n",
    " ([1, 1, 2, 2, 4, 5, 7], 32),\n",
    " ([1, 1, 1, 2, 4, 5, 6], 16),\n",
    " ([1, 1, 1, 1, 2, 4, 4], 20),\n",
    " ([1, 1, 2, 2, 4, 4, 7], 56),\n",
    " ([1, 2, 3, 3, 3, 5, 5], 110),\n",
    " ([1, 2, 3, 4, 4, 4, 7], 104),\n",
    " ([1, 1, 1, 2, 2, 4, 4], 43),\n",
    " ([1, 2, 3, 3, 4, 4, 7], 112),\n",
    " ([1, 1, 1, 3, 5, 5, 7], 32),\n",
    " ([1, 1, 1, 2, 3, 4, 4], 56),\n",
    " ([1, 1, 1, 2, 3, 3, 3], 38),\n",
    " ([1, 1, 2, 3, 5, 6, 7], 32),\n",
    " ([1, 2, 3, 4, 5, 6, 6], 288),\n",
    " ([1, 1, 2, 2, 3, 3, 6], 56),\n",
    " ([1, 2, 3, 3, 3, 3, 6], 44),\n",
    " ([1, 2, 2, 4, 4, 4, 5], 60),\n",
    " ([1, 1, 1, 3, 3, 3, 7], 20),\n",
    " ([1, 2, 2, 2, 3, 4, 7], 32),\n",
    " ([1, 1, 2, 2, 2, 4, 4], 55),\n",
    " ([1, 1, 1, 1, 2, 3, 3], 20),\n",
    " ([1, 1, 2, 3, 4, 4, 7], 80),\n",
    " ([1, 2, 3, 4, 4, 5, 7], 96),\n",
    " ([1, 2, 3, 3, 4, 6, 7], 64),\n",
    " ([1, 1, 1, 1, 3, 4, 5], 8),\n",
    " ([1, 2, 2, 2, 4, 5, 5], 80),\n",
    " ([1, 2, 3, 4, 5, 5, 5], 200),\n",
    " ([1, 2, 2, 2, 2, 6, 6], 35),\n",
    " ([1, 1, 3, 3, 5, 6, 7], 32),\n",
    " ([1, 1, 1, 2, 3, 5, 6], 16),\n",
    " ([1, 1, 2, 3, 3, 4, 4], 114),\n",
    " ([1, 1, 1, 2, 2, 3, 3], 43),\n",
    " ([1, 2, 3, 3, 5, 5, 5], 128),\n",
    " ([1, 1, 2, 2, 2, 2, 3], 22),\n",
    " ([1, 2, 2, 2, 2, 2, 5], 12),\n",
    " ([1, 2, 2, 3, 3, 5, 5], 129),\n",
    " ([1, 1, 3, 3, 4, 5, 5], 96),\n",
    " ([1, 2, 2, 3, 5, 5, 6], 96),\n",
    " ([1, 1, 1, 3, 5, 6, 7], 16),\n",
    " ([1, 1, 1, 2, 2, 2, 3], 20),\n",
    " ([1, 1, 1, 1, 4, 5, 6], 8),\n",
    " ([1, 1, 1, 2, 4, 6, 7], 16),\n",
    " ([1, 1, 2, 2, 2, 3, 3], 55),\n",
    " ([1, 1, 1, 1, 4, 4, 4], 13),\n",
    " ([1, 2, 3, 4, 4, 6, 7], 96),\n",
    " ([1, 2, 2, 2, 2, 4, 6], 20),\n",
    " ([1, 1, 2, 2, 3, 4, 5], 32),\n",
    " ([1, 1, 2, 3, 5, 5, 7], 80),\n",
    " ([1, 1, 1, 3, 5, 6, 6], 56),\n",
    " ([1, 1, 3, 3, 3, 3, 4], 22),\n",
    " ([1, 2, 2, 2, 3, 3, 4], 48),\n",
    " ([1, 1, 1, 1, 1, 1, 3], 2),\n",
    " ([1, 1, 3, 4, 4, 5, 7], 48),\n",
    " ([1, 1, 2, 3, 3, 3, 6], 52),\n",
    " ([1, 1, 1, 1, 3, 3, 7], 12),\n",
    " ([1, 1, 1, 2, 4, 4, 7], 32),\n",
    " ([1, 1, 1, 1, 1, 4, 4], 7),\n",
    " ([1, 1, 3, 4, 4, 6, 7], 48),\n",
    " ([1, 1, 2, 2, 4, 5, 6], 32),\n",
    " ([1, 2, 2, 2, 3, 6, 7], 32),\n",
    " ([1, 1, 3, 3, 4, 6, 6], 96),\n",
    " ([1, 1, 1, 3, 4, 4, 4], 38),\n",
    " ([1, 1, 1, 1, 2, 4, 5], 8),\n",
    " ([1, 1, 2, 2, 4, 4, 4], 64),\n",
    " ([1, 1, 2, 2, 2, 4, 5], 28),\n",
    " ([1, 1, 1, 1, 3, 5, 6], 8),\n",
    " ([1, 2, 3, 3, 4, 4, 6], 112),\n",
    " ([1, 1, 1, 2, 3, 4, 5], 16),\n",
    " ([1, 2, 2, 3, 4, 4, 4], 114),\n",
    " ([1, 1, 3, 4, 4, 4, 7], 52),\n",
    " ([1, 1, 2, 2, 3, 3, 7], 56),\n",
    " ([1, 1, 1, 2, 3, 3, 4], 32)]"
   ]
  },
  {
   "cell_type": "code",
   "execution_count": 0,
   "metadata": {
    "collapsed": false
   },
   "outputs": [
   ],
   "source": [
   ]
  }
 ],
 "metadata": {
  "kernelspec": {
   "display_name": "SageMath (stable)",
   "language": "sagemath",
   "metadata": {
    "cocalc": {
     "description": "Open-source mathematical software system",
     "priority": 10,
     "url": "https://www.sagemath.org/"
    }
   },
   "name": "sagemath"
  },
  "language_info": {
   "codemirror_mode": {
    "name": "ipython",
    "version": 2
   },
   "file_extension": ".py",
   "mimetype": "text/x-python",
   "name": "python",
   "nbconvert_exporter": "python",
   "pygments_lexer": "ipython2",
   "version": "2.7.15"
  }
 },
 "nbformat": 4,
 "nbformat_minor": 0
}